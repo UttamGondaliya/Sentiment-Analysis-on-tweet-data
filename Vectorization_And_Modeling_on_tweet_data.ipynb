{
  "cells": [
    {
      "cell_type": "code",
      "execution_count": 1,
      "metadata": {
        "id": "29SJ8BmTn_PZ"
      },
      "outputs": [],
      "source": [
        "import pandas as pd\n",
        "import numpy as np\n",
        "import matplotlib.pyplot as plt\n",
        "import seaborn as sns\n",
        "import warnings\n",
        "import scipy\n",
        "import pickle\n",
        "from sklearn.utils import resample,shuffle\n",
        "from tqdm import tqdm_notebook as tqdm\n",
        "warnings.filterwarnings(\"ignore\")\n",
        "import pandas as pd\n",
        "import numpy as np\n",
        "from sklearn.preprocessing import OneHotEncoder\n",
        "import re\n",
        "from sklearn.preprocessing import MinMaxScaler\n",
        "import matplotlib.pyplot as plt\n",
        "import seaborn as sns\n",
        "from sklearn.model_selection import train_test_split\n",
        "from sklearn.metrics import confusion_matrix,classification_report\n",
        "from sklearn.metrics import accuracy_score\n",
        "from sklearn.neighbors import KNeighborsClassifier\n",
        "from sklearn.linear_model import SGDClassifier\n",
        "from sklearn.naive_bayes import MultinomialNB\n",
        "from sklearn.ensemble import RandomForestClassifier\n",
        "from sklearn.svm import SVC\n",
        "from sklearn.model_selection import GridSearchCV\n",
        "from imblearn.over_sampling import SMOTE\n",
        "from sklearn.preprocessing import StandardScaler\n",
        "from xgboost import XGBClassifier\n",
        "from sklearn.metrics import f1_score\n",
        "from sklearn.naive_bayes import MultinomialNB\n",
        "from sklearn.model_selection import RandomizedSearchCV\n",
        "from scipy.stats import randint as sp_randint\n",
        "from scipy.stats import uniform as sp_uniform\n",
        "import lightgbm as lgb\n",
        "from sklearn.preprocessing import MinMaxScaler\n",
        "from sklearn.feature_extraction.text import CountVectorizer\n",
        "from keras.preprocessing import text\n",
        "from tensorflow.keras.layers.experimental import RandomFourierFeatures\n"
      ]
    },
    {
      "cell_type": "code",
      "source": [
        "from tcn import TCN"
      ],
      "metadata": {
        "id": "ClnxaTbx4Jhs"
      },
      "execution_count": null,
      "outputs": []
    },
    {
      "cell_type": "code",
      "source": [
        "df=pd.read_csv('tweet_balanced.csv')"
      ],
      "metadata": {
        "id": "jIvbpDk9iSXy"
      },
      "execution_count": 2,
      "outputs": []
    },
    {
      "cell_type": "code",
      "source": [
        "df.drop(columns=df.columns[0],inplace=True)\n",
        "df"
      ],
      "metadata": {
        "colab": {
          "base_uri": "https://localhost:8080/",
          "height": 423
        },
        "id": "RkDtAG77iiB2",
        "outputId": "1866a96c-c9c1-4175-9d4d-057a7d8d1786"
      },
      "execution_count": 3,
      "outputs": [
        {
          "output_type": "execute_result",
          "data": {
            "text/html": [
              "\n",
              "  <div id=\"df-469560c6-bf8a-4c6c-9e5e-92b9599173e1\">\n",
              "    <div class=\"colab-df-container\">\n",
              "      <div>\n",
              "<style scoped>\n",
              "    .dataframe tbody tr th:only-of-type {\n",
              "        vertical-align: middle;\n",
              "    }\n",
              "\n",
              "    .dataframe tbody tr th {\n",
              "        vertical-align: top;\n",
              "    }\n",
              "\n",
              "    .dataframe thead th {\n",
              "        text-align: right;\n",
              "    }\n",
              "</style>\n",
              "<table border=\"1\" class=\"dataframe\">\n",
              "  <thead>\n",
              "    <tr style=\"text-align: right;\">\n",
              "      <th></th>\n",
              "      <th>target</th>\n",
              "      <th>clean_text</th>\n",
              "    </tr>\n",
              "  </thead>\n",
              "  <tbody>\n",
              "    <tr>\n",
              "      <th>0</th>\n",
              "      <td>Neg</td>\n",
              "      <td>is upset that he can not update his facebook b...</td>\n",
              "    </tr>\n",
              "    <tr>\n",
              "      <th>1</th>\n",
              "      <td>Neg</td>\n",
              "      <td>i dived many times for the ball managed to sav...</td>\n",
              "    </tr>\n",
              "    <tr>\n",
              "      <th>2</th>\n",
              "      <td>Neg</td>\n",
              "      <td>my whole body feels itchy and like its on fire</td>\n",
              "    </tr>\n",
              "    <tr>\n",
              "      <th>3</th>\n",
              "      <td>Neg</td>\n",
              "      <td>no it is not behaving at all i am mad why am i...</td>\n",
              "    </tr>\n",
              "    <tr>\n",
              "      <th>4</th>\n",
              "      <td>Neg</td>\n",
              "      <td>not the whole crew</td>\n",
              "    </tr>\n",
              "    <tr>\n",
              "      <th>...</th>\n",
              "      <td>...</td>\n",
              "      <td>...</td>\n",
              "    </tr>\n",
              "    <tr>\n",
              "      <th>165580</th>\n",
              "      <td>Neu</td>\n",
              "      <td>case dont look candidate then that case person...</td>\n",
              "    </tr>\n",
              "    <tr>\n",
              "      <th>165581</th>\n",
              "      <td>Neu</td>\n",
              "      <td>congress veteran sudhakar reddy joins bjp afte...</td>\n",
              "    </tr>\n",
              "    <tr>\n",
              "      <th>165582</th>\n",
              "      <td>Neu</td>\n",
              "      <td>save your agenda peddling ’ had with terror at...</td>\n",
              "    </tr>\n",
              "    <tr>\n",
              "      <th>165583</th>\n",
              "      <td>Neu</td>\n",
              "      <td>did you cover her interaction forum where she ...</td>\n",
              "    </tr>\n",
              "    <tr>\n",
              "      <th>165584</th>\n",
              "      <td>Neu</td>\n",
              "      <td>there big project came into india modi dream p...</td>\n",
              "    </tr>\n",
              "  </tbody>\n",
              "</table>\n",
              "<p>165585 rows × 2 columns</p>\n",
              "</div>\n",
              "      <button class=\"colab-df-convert\" onclick=\"convertToInteractive('df-469560c6-bf8a-4c6c-9e5e-92b9599173e1')\"\n",
              "              title=\"Convert this dataframe to an interactive table.\"\n",
              "              style=\"display:none;\">\n",
              "        \n",
              "  <svg xmlns=\"http://www.w3.org/2000/svg\" height=\"24px\"viewBox=\"0 0 24 24\"\n",
              "       width=\"24px\">\n",
              "    <path d=\"M0 0h24v24H0V0z\" fill=\"none\"/>\n",
              "    <path d=\"M18.56 5.44l.94 2.06.94-2.06 2.06-.94-2.06-.94-.94-2.06-.94 2.06-2.06.94zm-11 1L8.5 8.5l.94-2.06 2.06-.94-2.06-.94L8.5 2.5l-.94 2.06-2.06.94zm10 10l.94 2.06.94-2.06 2.06-.94-2.06-.94-.94-2.06-.94 2.06-2.06.94z\"/><path d=\"M17.41 7.96l-1.37-1.37c-.4-.4-.92-.59-1.43-.59-.52 0-1.04.2-1.43.59L10.3 9.45l-7.72 7.72c-.78.78-.78 2.05 0 2.83L4 21.41c.39.39.9.59 1.41.59.51 0 1.02-.2 1.41-.59l7.78-7.78 2.81-2.81c.8-.78.8-2.07 0-2.86zM5.41 20L4 18.59l7.72-7.72 1.47 1.35L5.41 20z\"/>\n",
              "  </svg>\n",
              "      </button>\n",
              "      \n",
              "  <style>\n",
              "    .colab-df-container {\n",
              "      display:flex;\n",
              "      flex-wrap:wrap;\n",
              "      gap: 12px;\n",
              "    }\n",
              "\n",
              "    .colab-df-convert {\n",
              "      background-color: #E8F0FE;\n",
              "      border: none;\n",
              "      border-radius: 50%;\n",
              "      cursor: pointer;\n",
              "      display: none;\n",
              "      fill: #1967D2;\n",
              "      height: 32px;\n",
              "      padding: 0 0 0 0;\n",
              "      width: 32px;\n",
              "    }\n",
              "\n",
              "    .colab-df-convert:hover {\n",
              "      background-color: #E2EBFA;\n",
              "      box-shadow: 0px 1px 2px rgba(60, 64, 67, 0.3), 0px 1px 3px 1px rgba(60, 64, 67, 0.15);\n",
              "      fill: #174EA6;\n",
              "    }\n",
              "\n",
              "    [theme=dark] .colab-df-convert {\n",
              "      background-color: #3B4455;\n",
              "      fill: #D2E3FC;\n",
              "    }\n",
              "\n",
              "    [theme=dark] .colab-df-convert:hover {\n",
              "      background-color: #434B5C;\n",
              "      box-shadow: 0px 1px 3px 1px rgba(0, 0, 0, 0.15);\n",
              "      filter: drop-shadow(0px 1px 2px rgba(0, 0, 0, 0.3));\n",
              "      fill: #FFFFFF;\n",
              "    }\n",
              "  </style>\n",
              "\n",
              "      <script>\n",
              "        const buttonEl =\n",
              "          document.querySelector('#df-469560c6-bf8a-4c6c-9e5e-92b9599173e1 button.colab-df-convert');\n",
              "        buttonEl.style.display =\n",
              "          google.colab.kernel.accessAllowed ? 'block' : 'none';\n",
              "\n",
              "        async function convertToInteractive(key) {\n",
              "          const element = document.querySelector('#df-469560c6-bf8a-4c6c-9e5e-92b9599173e1');\n",
              "          const dataTable =\n",
              "            await google.colab.kernel.invokeFunction('convertToInteractive',\n",
              "                                                     [key], {});\n",
              "          if (!dataTable) return;\n",
              "\n",
              "          const docLinkHtml = 'Like what you see? Visit the ' +\n",
              "            '<a target=\"_blank\" href=https://colab.research.google.com/notebooks/data_table.ipynb>data table notebook</a>'\n",
              "            + ' to learn more about interactive tables.';\n",
              "          element.innerHTML = '';\n",
              "          dataTable['output_type'] = 'display_data';\n",
              "          await google.colab.output.renderOutput(dataTable, element);\n",
              "          const docLink = document.createElement('div');\n",
              "          docLink.innerHTML = docLinkHtml;\n",
              "          element.appendChild(docLink);\n",
              "        }\n",
              "      </script>\n",
              "    </div>\n",
              "  </div>\n",
              "  "
            ],
            "text/plain": [
              "       target                                         clean_text\n",
              "0         Neg  is upset that he can not update his facebook b...\n",
              "1         Neg  i dived many times for the ball managed to sav...\n",
              "2         Neg     my whole body feels itchy and like its on fire\n",
              "3         Neg  no it is not behaving at all i am mad why am i...\n",
              "4         Neg                                 not the whole crew\n",
              "...       ...                                                ...\n",
              "165580    Neu  case dont look candidate then that case person...\n",
              "165581    Neu  congress veteran sudhakar reddy joins bjp afte...\n",
              "165582    Neu  save your agenda peddling ’ had with terror at...\n",
              "165583    Neu  did you cover her interaction forum where she ...\n",
              "165584    Neu  there big project came into india modi dream p...\n",
              "\n",
              "[165585 rows x 2 columns]"
            ]
          },
          "metadata": {},
          "execution_count": 3
        }
      ]
    },
    {
      "cell_type": "code",
      "execution_count": null,
      "metadata": {
        "id": "zFEH67EGjJcp"
      },
      "outputs": [],
      "source": [
        "# leabeling data differently to make it easier -1:neg, 0:Neu , 1:Pos\n",
        "def lab_2class(tar):\n",
        "    if tar==0:\n",
        "        return 'Neg'\n",
        "    elif tar==4:\n",
        "        return 'Pos'\n",
        "\n",
        "def lable(tar):\n",
        "    if tar==-1:\n",
        "        return 'Neg'\n",
        "    elif tar==0:\n",
        "        return 'Neu'\n",
        "    elif tar==1:\n",
        "        return 'Pos'"
      ]
    },
    {
      "cell_type": "code",
      "execution_count": null,
      "metadata": {
        "id": "X8Z0Sb17jZnE"
      },
      "outputs": [],
      "source": [
        "df['target']=df['category'].apply(lable)"
      ]
    },
    {
      "cell_type": "code",
      "source": [
        "df"
      ],
      "metadata": {
        "colab": {
          "base_uri": "https://localhost:8080/",
          "height": 423
        },
        "id": "MTFM2oT0D4eb",
        "outputId": "7ebe92a8-0368-4c5f-9045-12b0e0a83d09"
      },
      "execution_count": null,
      "outputs": [
        {
          "output_type": "execute_result",
          "data": {
            "text/html": [
              "\n",
              "  <div id=\"df-ce0d8a7a-cfae-4abc-9ab5-0ef8297390ef\">\n",
              "    <div class=\"colab-df-container\">\n",
              "      <div>\n",
              "<style scoped>\n",
              "    .dataframe tbody tr th:only-of-type {\n",
              "        vertical-align: middle;\n",
              "    }\n",
              "\n",
              "    .dataframe tbody tr th {\n",
              "        vertical-align: top;\n",
              "    }\n",
              "\n",
              "    .dataframe thead th {\n",
              "        text-align: right;\n",
              "    }\n",
              "</style>\n",
              "<table border=\"1\" class=\"dataframe\">\n",
              "  <thead>\n",
              "    <tr style=\"text-align: right;\">\n",
              "      <th></th>\n",
              "      <th>target</th>\n",
              "      <th>clean_text</th>\n",
              "    </tr>\n",
              "  </thead>\n",
              "  <tbody>\n",
              "    <tr>\n",
              "      <th>0</th>\n",
              "      <td>Neg</td>\n",
              "      <td>is upset that he can not update his facebook b...</td>\n",
              "    </tr>\n",
              "    <tr>\n",
              "      <th>1</th>\n",
              "      <td>Neg</td>\n",
              "      <td>i dived many times for the ball managed to sav...</td>\n",
              "    </tr>\n",
              "    <tr>\n",
              "      <th>2</th>\n",
              "      <td>Neg</td>\n",
              "      <td>my whole body feels itchy and like its on fire</td>\n",
              "    </tr>\n",
              "    <tr>\n",
              "      <th>3</th>\n",
              "      <td>Neg</td>\n",
              "      <td>no it is not behaving at all i am mad why am i...</td>\n",
              "    </tr>\n",
              "    <tr>\n",
              "      <th>4</th>\n",
              "      <td>Neg</td>\n",
              "      <td>not the whole crew</td>\n",
              "    </tr>\n",
              "    <tr>\n",
              "      <th>...</th>\n",
              "      <td>...</td>\n",
              "      <td>...</td>\n",
              "    </tr>\n",
              "    <tr>\n",
              "      <th>165580</th>\n",
              "      <td>Neu</td>\n",
              "      <td>case dont look candidate then that case person...</td>\n",
              "    </tr>\n",
              "    <tr>\n",
              "      <th>165581</th>\n",
              "      <td>Neu</td>\n",
              "      <td>congress veteran sudhakar reddy joins bjp afte...</td>\n",
              "    </tr>\n",
              "    <tr>\n",
              "      <th>165582</th>\n",
              "      <td>Neu</td>\n",
              "      <td>save your agenda peddling ’ had with terror at...</td>\n",
              "    </tr>\n",
              "    <tr>\n",
              "      <th>165583</th>\n",
              "      <td>Neu</td>\n",
              "      <td>did you cover her interaction forum where she ...</td>\n",
              "    </tr>\n",
              "    <tr>\n",
              "      <th>165584</th>\n",
              "      <td>Neu</td>\n",
              "      <td>there big project came into india modi dream p...</td>\n",
              "    </tr>\n",
              "  </tbody>\n",
              "</table>\n",
              "<p>165585 rows × 2 columns</p>\n",
              "</div>\n",
              "      <button class=\"colab-df-convert\" onclick=\"convertToInteractive('df-ce0d8a7a-cfae-4abc-9ab5-0ef8297390ef')\"\n",
              "              title=\"Convert this dataframe to an interactive table.\"\n",
              "              style=\"display:none;\">\n",
              "        \n",
              "  <svg xmlns=\"http://www.w3.org/2000/svg\" height=\"24px\"viewBox=\"0 0 24 24\"\n",
              "       width=\"24px\">\n",
              "    <path d=\"M0 0h24v24H0V0z\" fill=\"none\"/>\n",
              "    <path d=\"M18.56 5.44l.94 2.06.94-2.06 2.06-.94-2.06-.94-.94-2.06-.94 2.06-2.06.94zm-11 1L8.5 8.5l.94-2.06 2.06-.94-2.06-.94L8.5 2.5l-.94 2.06-2.06.94zm10 10l.94 2.06.94-2.06 2.06-.94-2.06-.94-.94-2.06-.94 2.06-2.06.94z\"/><path d=\"M17.41 7.96l-1.37-1.37c-.4-.4-.92-.59-1.43-.59-.52 0-1.04.2-1.43.59L10.3 9.45l-7.72 7.72c-.78.78-.78 2.05 0 2.83L4 21.41c.39.39.9.59 1.41.59.51 0 1.02-.2 1.41-.59l7.78-7.78 2.81-2.81c.8-.78.8-2.07 0-2.86zM5.41 20L4 18.59l7.72-7.72 1.47 1.35L5.41 20z\"/>\n",
              "  </svg>\n",
              "      </button>\n",
              "      \n",
              "  <style>\n",
              "    .colab-df-container {\n",
              "      display:flex;\n",
              "      flex-wrap:wrap;\n",
              "      gap: 12px;\n",
              "    }\n",
              "\n",
              "    .colab-df-convert {\n",
              "      background-color: #E8F0FE;\n",
              "      border: none;\n",
              "      border-radius: 50%;\n",
              "      cursor: pointer;\n",
              "      display: none;\n",
              "      fill: #1967D2;\n",
              "      height: 32px;\n",
              "      padding: 0 0 0 0;\n",
              "      width: 32px;\n",
              "    }\n",
              "\n",
              "    .colab-df-convert:hover {\n",
              "      background-color: #E2EBFA;\n",
              "      box-shadow: 0px 1px 2px rgba(60, 64, 67, 0.3), 0px 1px 3px 1px rgba(60, 64, 67, 0.15);\n",
              "      fill: #174EA6;\n",
              "    }\n",
              "\n",
              "    [theme=dark] .colab-df-convert {\n",
              "      background-color: #3B4455;\n",
              "      fill: #D2E3FC;\n",
              "    }\n",
              "\n",
              "    [theme=dark] .colab-df-convert:hover {\n",
              "      background-color: #434B5C;\n",
              "      box-shadow: 0px 1px 3px 1px rgba(0, 0, 0, 0.15);\n",
              "      filter: drop-shadow(0px 1px 2px rgba(0, 0, 0, 0.3));\n",
              "      fill: #FFFFFF;\n",
              "    }\n",
              "  </style>\n",
              "\n",
              "      <script>\n",
              "        const buttonEl =\n",
              "          document.querySelector('#df-ce0d8a7a-cfae-4abc-9ab5-0ef8297390ef button.colab-df-convert');\n",
              "        buttonEl.style.display =\n",
              "          google.colab.kernel.accessAllowed ? 'block' : 'none';\n",
              "\n",
              "        async function convertToInteractive(key) {\n",
              "          const element = document.querySelector('#df-ce0d8a7a-cfae-4abc-9ab5-0ef8297390ef');\n",
              "          const dataTable =\n",
              "            await google.colab.kernel.invokeFunction('convertToInteractive',\n",
              "                                                     [key], {});\n",
              "          if (!dataTable) return;\n",
              "\n",
              "          const docLinkHtml = 'Like what you see? Visit the ' +\n",
              "            '<a target=\"_blank\" href=https://colab.research.google.com/notebooks/data_table.ipynb>data table notebook</a>'\n",
              "            + ' to learn more about interactive tables.';\n",
              "          element.innerHTML = '';\n",
              "          dataTable['output_type'] = 'display_data';\n",
              "          await google.colab.output.renderOutput(dataTable, element);\n",
              "          const docLink = document.createElement('div');\n",
              "          docLink.innerHTML = docLinkHtml;\n",
              "          element.appendChild(docLink);\n",
              "        }\n",
              "      </script>\n",
              "    </div>\n",
              "  </div>\n",
              "  "
            ],
            "text/plain": [
              "       target                                         clean_text\n",
              "0         Neg  is upset that he can not update his facebook b...\n",
              "1         Neg  i dived many times for the ball managed to sav...\n",
              "2         Neg     my whole body feels itchy and like its on fire\n",
              "3         Neg  no it is not behaving at all i am mad why am i...\n",
              "4         Neg                                 not the whole crew\n",
              "...       ...                                                ...\n",
              "165580    Neu  case dont look candidate then that case person...\n",
              "165581    Neu  congress veteran sudhakar reddy joins bjp afte...\n",
              "165582    Neu  save your agenda peddling ’ had with terror at...\n",
              "165583    Neu  did you cover her interaction forum where she ...\n",
              "165584    Neu  there big project came into india modi dream p...\n",
              "\n",
              "[165585 rows x 2 columns]"
            ]
          },
          "metadata": {},
          "execution_count": 6
        }
      ]
    },
    {
      "cell_type": "code",
      "execution_count": null,
      "metadata": {
        "colab": {
          "base_uri": "https://localhost:8080/"
        },
        "id": "RkJVQoZFiDv6",
        "outputId": "253322ab-7385-4dcb-f430-b0c3229a615d"
      },
      "outputs": [
        {
          "output_type": "execute_result",
          "data": {
            "text/plain": [
              "Pos    55372\n",
              "Neu    55213\n",
              "Neg    55000\n",
              "Name: target, dtype: int64"
            ]
          },
          "metadata": {},
          "execution_count": 7
        }
      ],
      "source": [
        "# there is NO class imbalance \n",
        "df.target.value_counts()"
      ]
    },
    {
      "cell_type": "code",
      "execution_count": 4,
      "metadata": {
        "id": "QmDTosIJQUws"
      },
      "outputs": [],
      "source": [
        "# removing NaN valued from data\n",
        "\n",
        "df=df.fillna('NA')\n",
        "df=df.loc[df.clean_text!='NA']\n",
        "df=df.loc[df.target!='NA']"
      ]
    },
    {
      "cell_type": "markdown",
      "metadata": {
        "id": "LxOXEqPP060q"
      },
      "source": [
        "###Since we have cleaned the text data, we will now create vectors of text using different approaches"
      ]
    },
    {
      "cell_type": "code",
      "execution_count": null,
      "metadata": {
        "id": "gkOw-kXA3lo2"
      },
      "outputs": [],
      "source": [
        "train,test=train_test_split(df,stratify=df.target,test_size=0.2)"
      ]
    },
    {
      "cell_type": "code",
      "execution_count": null,
      "metadata": {
        "id": "WMPYa0pmBp-Q"
      },
      "outputs": [],
      "source": [
        "y_train=train.target.values\n",
        "y_test=test.target.values"
      ]
    },
    {
      "cell_type": "code",
      "execution_count": 31,
      "metadata": {
        "id": "jEF5bOZKmqf-"
      },
      "outputs": [],
      "source": [
        "# function to plot confusion matrix and precision and recall matrix\n",
        "def plot_confusion_matrix(test_y, predict_y):\n",
        "    C = confusion_matrix(test_y, predict_y)\n",
        "    \n",
        "    A =(((C.T)/(C.sum(axis=1))).T)\n",
        "    \n",
        "    B =(C/C.sum(axis=0))\n",
        "    plt.figure(figsize=(20,4))\n",
        "    \n",
        "    labels = ['Neg', 'Neu', 'Pos']\n",
        "    # representing A in heatmap format\n",
        "    cmap=sns.light_palette(\"blue\")\n",
        "    plt.subplot(1, 3, 1)\n",
        "    sns.heatmap(C, annot=True, cmap=cmap, fmt=\".3f\", xticklabels=labels, yticklabels=labels)\n",
        "    plt.xlabel('Predicted Class')\n",
        "    plt.ylabel('Original Class')\n",
        "    plt.title(\"Confusion matrix\")\n",
        "    \n",
        "    plt.subplot(1, 3, 2)\n",
        "    sns.heatmap(B, annot=True, cmap=cmap, fmt=\".3f\", xticklabels=labels, yticklabels=labels)\n",
        "    plt.xlabel('Predicted Class')\n",
        "    plt.ylabel('Original Class')\n",
        "    plt.title(\"Precision matrix\")\n",
        "    \n",
        "    plt.subplot(1, 3, 3)\n",
        "    # representing B in heatmap format\n",
        "    sns.heatmap(A, annot=True, cmap=cmap, fmt=\".3f\", xticklabels=labels, yticklabels=labels)\n",
        "    plt.xlabel('Predicted Class')\n",
        "    plt.ylabel('Original Class')\n",
        "    plt.title(\"Recall matrix\")\n",
        "    \n",
        "    plt.show()"
      ]
    },
    {
      "cell_type": "markdown",
      "metadata": {
        "id": "aJHkH_wr1u4l"
      },
      "source": [
        "# Bag of Words"
      ]
    },
    {
      "cell_type": "code",
      "execution_count": null,
      "metadata": {
        "id": "XRD6qlE_u0o_"
      },
      "outputs": [],
      "source": [
        "data=train['clean_text'].values\n",
        "vectorizer = CountVectorizer(stop_words={'english'},ngram_range=(1,2),min_df=300)\n",
        "cv= vectorizer.fit(data)\n",
        "train_x=cv.transform(data).todense()\n",
        "test_x=cv.transform(test['clean_text'].values).todense()\n"
      ]
    },
    {
      "cell_type": "code",
      "execution_count": null,
      "metadata": {
        "colab": {
          "base_uri": "https://localhost:8080/"
        },
        "id": "at78W_s49BWZ",
        "outputId": "4d42e3d7-9cd7-492b-b773-180d0c610e38"
      },
      "outputs": [
        {
          "output_type": "stream",
          "name": "stdout",
          "text": [
            "0.8225684693661865\n",
            "0.8225684693661867\n"
          ]
        }
      ],
      "source": [
        "lgbm=lgb.LGBMClassifier(boosting_type='gbdt', class_weight=None,\n",
        "                                                colsample_bytree=0.8598256139129683, importance_type='split',\n",
        "                                                learning_rate=0.1, max_depth=-1, metric='None',\n",
        "                                                min_child_samples=191, min_child_weight=1, min_split_gain=0.0,\n",
        "                                                n_estimators=200, n_jobs=-1, num_leaves=46, objective=None,\n",
        "                                                random_state=314, reg_alpha=0, reg_lambda=0, silent=True,\n",
        "                                                subsample=0.8720649952803985, subsample_for_bin=200000,\n",
        "                                                subsample_freq=0)\n",
        "lgbm.fit(train_x,y_train)\n",
        "pred=lgbm.predict(test_x)\n",
        "print(accuracy_score(y_test,pred))\n",
        "print(f1_score(y_test,pred,average='micro'))"
      ]
    },
    {
      "cell_type": "code",
      "execution_count": null,
      "metadata": {
        "colab": {
          "base_uri": "https://localhost:8080/",
          "height": 283
        },
        "id": "YYEbsmqSmobQ",
        "outputId": "0592d13d-7229-4145-e766-f6cba3b76274"
      },
      "outputs": [
        {
          "output_type": "display_data",
          "data": {
            "image/png": "[encoded data removed]",
            "text/plain": [
              "<Figure size 1440x288 with 6 Axes>"
            ]
          },
          "metadata": {
            "needs_background": "light"
          }
        }
      ],
      "source": [
        "plot_confusion_matrix(y_test,pred)"
      ]
    },
    {
      "cell_type": "markdown",
      "source": [
        "#### With BOW approach, best performing model is LGBM which gives 83% accuracy\n",
        "#### As we caan see, clasifier is facing issues while predicting Negative class, lowest precision and recall\n",
        "#### Model was able to predict Neutral 93% of time out of total available points which is highest recall\n",
        "#### out of all predicted positive, 90% of them were actually positive which is highest precision \n"
      ],
      "metadata": {
        "id": "TxO1K4zayrMp"
      }
    },
    {
      "cell_type": "markdown",
      "metadata": {
        "id": "TOVQU_tyRpIZ"
      },
      "source": [
        "# W2Vec"
      ]
    },
    {
      "cell_type": "code",
      "execution_count": null,
      "metadata": {
        "id": "Tzs9-nXBLoXy"
      },
      "outputs": [],
      "source": [
        "# we are gonna extract vectors for tweet using glove vectors \n",
        "with open('/content/drive/MyDrive/Assignments/LSTM Assignment/glove_vectors', 'rb') as f:\n",
        "    model = pickle.load(f)\n",
        "    glove_words =  set(model.keys())"
      ]
    },
    {
      "cell_type": "code",
      "execution_count": null,
      "metadata": {
        "colab": {
          "base_uri": "https://localhost:8080/",
          "height": 85,
          "referenced_widgets": [
            "99bad6a8f3404129aee7f5fe5a6f75f4",
            "5b84bb69ed934f618781b109baf832a9",
            "275aac40f5a64aae8c0507fdc06dc141",
            "eb8d284919724b9888ff6781380d3769",
            "af0d5e20ba49459a80831c1c19aeeccf",
            "120107c2f0de4c65bcd2e86f6f1488f2",
            "80d92088faef4cbeb9ef3fb0e423dc14",
            "04f8162125b14b0bb4074f670960c61d",
            "892ef8bd5d9541f4acdffe8ff9852876",
            "b974383b2d494545818f93b045fc8576",
            "f9c075ee1e264ff1990eb40b441a908e"
          ]
        },
        "id": "--yaEx0USDRb",
        "outputId": "802c4e88-bed8-4cea-dc60-e19b2bf5993c"
      },
      "outputs": [
        {
          "data": {
            "application/vnd.jupyter.widget-view+json": {
              "model_id": "99bad6a8f3404129aee7f5fe5a6f75f4",
              "version_major": 2,
              "version_minor": 0
            },
            "text/plain": [
              "  0%|          | 0/162969 [00:00<?, ?it/s]"
            ]
          },
          "metadata": {},
          "output_type": "display_data"
        },
        {
          "name": "stdout",
          "output_type": "stream",
          "text": [
            "162969\n",
            "300\n"
          ]
        }
      ],
      "source": [
        "\n",
        "avg_w2v_vectors = [];\n",
        "for sentence in tqdm(df.clean_text.values): # for each sentence\n",
        "    vector = np.zeros(300) # as word vectors are of zero length\n",
        "    cnt_words =0; # num of words with a valid vector in the sentence\n",
        "    for word in sentence.split(): # for each word in a sentence\n",
        "        if word in glove_words:\n",
        "            vector += model[word]\n",
        "            cnt_words += 1\n",
        "    if cnt_words != 0:\n",
        "        vector /= cnt_words\n",
        "    avg_w2v_vectors.append(vector)\n",
        "\n",
        "print(len(avg_w2v_vectors))\n",
        "print(len(avg_w2v_vectors[0]))"
      ]
    },
    {
      "cell_type": "code",
      "execution_count": null,
      "metadata": {
        "id": "4Q_8lPoOSuWp"
      },
      "outputs": [],
      "source": [
        "X_train,X_test,Y_train,Y_test=train_test_split(avg_w2v_vectors,df.target.values,stratify=df.target.values,test_size=0.2)"
      ]
    },
    {
      "cell_type": "code",
      "execution_count": null,
      "metadata": {
        "colab": {
          "base_uri": "https://localhost:8080/"
        },
        "id": "bV2KaFOn-V4-",
        "outputId": "f5eb1c61-9e8f-4d47-eab8-c473e3f04e8c"
      },
      "outputs": [
        {
          "data": {
            "text/plain": [
              "0.684942013867583"
            ]
          },
          "execution_count": 97,
          "metadata": {},
          "output_type": "execute_result"
        }
      ],
      "source": [
        "lgbm=lgb.LGBMClassifier(boosting_type='gbdt', class_weight=None,\n",
        "                                                colsample_bytree=0.8598256139129683, importance_type='split',\n",
        "                                                learning_rate=0.1, max_depth=-1, metric='None',\n",
        "                                                min_child_samples=191, min_child_weight=1, min_split_gain=0.0,\n",
        "                                                n_estimators=200, n_jobs=-1, num_leaves=46, objective=None,\n",
        "                                                random_state=314, reg_alpha=0, reg_lambda=0, silent=True,\n",
        "                                                subsample=0.8720649952803985, subsample_for_bin=200000,\n",
        "                                                subsample_freq=0)\n",
        "lgbm.fit(X_train,Y_train)\n",
        "pred=lgbm.predict(X_test)\n",
        "accuracy_score(Y_test,pred)"
      ]
    },
    {
      "cell_type": "markdown",
      "source": [
        "#### Performance of same model has reduced for this set of features, reason being the same, difficulty in predicting negative class, lowest precision and recall "
      ],
      "metadata": {
        "id": "QlHNgMMIz8Xs"
      }
    },
    {
      "cell_type": "code",
      "execution_count": null,
      "metadata": {
        "colab": {
          "base_uri": "https://localhost:8080/",
          "height": 283
        },
        "id": "nxsJEtKgpLnr",
        "outputId": "a697ad39-bf43-4766-d043-b24fbf54df2f"
      },
      "outputs": [
        {
          "data": {
            "image/png": "[encoded data removed]",
            "text/plain": [
              "<Figure size 1440x288 with 6 Axes>"
            ]
          },
          "metadata": {},
          "output_type": "display_data"
        }
      ],
      "source": [
        "plot_confusion_matrix(Y_test,pred)"
      ]
    },
    {
      "cell_type": "markdown",
      "metadata": {
        "id": "on7dz5D2X7D-"
      },
      "source": [
        "# TF-IDF Weighted W2Vec"
      ]
    },
    {
      "cell_type": "code",
      "execution_count": null,
      "metadata": {
        "id": "iEc00CZyX-Rx"
      },
      "outputs": [],
      "source": [
        "from sklearn.feature_extraction.text import TfidfVectorizer"
      ]
    },
    {
      "cell_type": "code",
      "execution_count": null,
      "metadata": {
        "id": "H-tMwbVZXu-n"
      },
      "outputs": [],
      "source": [
        "tfidf_model = TfidfVectorizer()\n",
        "tfidf_model.fit(df.clean_text.values)\n",
        "dictionary = dict(zip(tfidf_model.get_feature_names(), list(tfidf_model.idf_)))\n",
        "tfidf_words = set(tfidf_model.get_feature_names())"
      ]
    },
    {
      "cell_type": "code",
      "execution_count": null,
      "metadata": {
        "colab": {
          "base_uri": "https://localhost:8080/",
          "height": 85,
          "referenced_widgets": [
            "1e47767a03c547be8f8fc2ac63800a8a",
            "b4317edc25cd4008b92b3bab89b7010e",
            "0ffb4c8e087a435ca341ed358ab4088c",
            "c57b26b35ce940678633733438cb2611",
            "da669587a3fd4525966b033b46ffe6a6",
            "e7afa0e464774b4bb3a50cd80b0b93b0",
            "c280c73378b24e3390ceb3b6d7d80bd4",
            "df605f373a4443a0acae3ce863df856c",
            "048974c7aa1c4bf299c793af9b6b95ac",
            "76bbdc73e7f742ae805582cc59292fbd",
            "6487669807d54a76bdc4df97216eb054"
          ]
        },
        "id": "uOnn4ryUYKx-",
        "outputId": "4a5e9b25-6910-4d02-d52a-9536cc9d8908"
      },
      "outputs": [
        {
          "data": {
            "application/vnd.jupyter.widget-view+json": {
              "model_id": "1e47767a03c547be8f8fc2ac63800a8a",
              "version_major": 2,
              "version_minor": 0
            },
            "text/plain": [
              "  0%|          | 0/162969 [00:00<?, ?it/s]"
            ]
          },
          "metadata": {},
          "output_type": "display_data"
        },
        {
          "name": "stdout",
          "output_type": "stream",
          "text": [
            "162969\n",
            "300\n"
          ]
        }
      ],
      "source": [
        "\n",
        "tfidf_w2v_vectors = []\n",
        "for sentence in tqdm(df.clean_text.values):\n",
        "    vector = np.zeros(300) \n",
        "    tf_idf_weight =0\n",
        "    for word in sentence.split():\n",
        "        if (word in glove_words) and (word in tfidf_words):\n",
        "            vec = model[word] \n",
        "            tf_idf = dictionary[word]*(sentence.count(word)/len(sentence.split())) \n",
        "            vector += (vec * tf_idf) \n",
        "            tf_idf_weight += tf_idf\n",
        "    if tf_idf_weight != 0:\n",
        "        vector /= tf_idf_weight\n",
        "    tfidf_w2v_vectors.append(vector)\n",
        "\n",
        "print(len(tfidf_w2v_vectors))\n",
        "print(len(tfidf_w2v_vectors[0]))"
      ]
    },
    {
      "cell_type": "code",
      "execution_count": null,
      "metadata": {
        "id": "PM81LezKScyq"
      },
      "outputs": [],
      "source": [
        "X_train_tf,X_test_tf,Y_train_tf,Y_test_tf=train_test_split(tfidf_w2v_vectors,df.target.values,stratify=df.target.values,test_size=0.2)"
      ]
    },
    {
      "cell_type": "code",
      "execution_count": null,
      "metadata": {
        "colab": {
          "base_uri": "https://localhost:8080/"
        },
        "id": "KzLTbzC9mQ93",
        "outputId": "b26c1acb-da52-48d7-bbba-76e2056d6e1f"
      },
      "outputs": [
        {
          "data": {
            "text/plain": [
              "0.6595385653801313"
            ]
          },
          "execution_count": 105,
          "metadata": {},
          "output_type": "execute_result"
        }
      ],
      "source": [
        "lgbm=lgb.LGBMClassifier(boosting_type='gbdt', class_weight=None,\n",
        "                                                colsample_bytree=0.8598256139129683, importance_type='split',\n",
        "                                                learning_rate=0.1, max_depth=-1, metric='None',\n",
        "                                                min_child_samples=191, min_child_weight=1, min_split_gain=0.0,\n",
        "                                                n_estimators=200, n_jobs=-1, num_leaves=46, objective=None,\n",
        "                                                random_state=314, reg_alpha=0, reg_lambda=0, silent=True,\n",
        "                                                subsample=0.8720649952803985, subsample_for_bin=200000,\n",
        "                                                subsample_freq=0)\n",
        "lgbm.fit(X_train_tf,Y_train_tf)\n",
        "pred=lgbm.predict(X_test_tf)\n",
        "accuracy_score(Y_test_tf,pred)"
      ]
    },
    {
      "cell_type": "code",
      "execution_count": null,
      "metadata": {
        "colab": {
          "base_uri": "https://localhost:8080/",
          "height": 283
        },
        "id": "hpJiSmJhn2oL",
        "outputId": "72a4b481-a79a-4ab6-c538-0f960413f1bf"
      },
      "outputs": [
        {
          "data": {
            "image/png": "[encoded data removed]",
            "text/plain": [
              "<Figure size 1440x288 with 6 Axes>"
            ]
          },
          "metadata": {},
          "output_type": "display_data"
        }
      ],
      "source": [
        "plot_confusion_matrix(Y_test_tf,pred)"
      ]
    },
    {
      "cell_type": "markdown",
      "source": [
        "#### Reduction in performance observed, due to same reason, difficulty in predicting negative class"
      ],
      "metadata": {
        "id": "UQXXfr6K0-Zb"
      }
    },
    {
      "cell_type": "markdown",
      "metadata": {
        "id": "dVom_RBlFQCO"
      },
      "source": [
        "# BERT"
      ]
    },
    {
      "cell_type": "markdown",
      "source": [
        "#### We are gonna use pre trained bert model to get sentence vectors and then use it to train our model"
      ],
      "metadata": {
        "id": "p4SMpyWQ1PrR"
      }
    },
    {
      "cell_type": "code",
      "execution_count": null,
      "metadata": {
        "id": "WjAYm6caYWj2"
      },
      "outputs": [],
      "source": [
        "import tokenization\n",
        "import tensorflow as tf\n",
        "import tensorflow_hub as hub"
      ]
    },
    {
      "cell_type": "code",
      "execution_count": null,
      "metadata": {
        "colab": {
          "base_uri": "https://localhost:8080/"
        },
        "id": "YAw5drzjNb9c",
        "outputId": "32c33ac0-bf43-4add-ec71-0dd26bf57768"
      },
      "outputs": [
        {
          "output_type": "stream",
          "name": "stdout",
          "text": [
            "Collecting sentencepiece\n",
            "  Downloading sentencepiece-0.1.96-cp37-cp37m-manylinux_2_17_x86_64.manylinux2014_x86_64.whl (1.2 MB)\n",
            "\u001b[K     |████████████████████████████████| 1.2 MB 6.2 MB/s \n",
            "\u001b[?25hInstalling collected packages: sentencepiece\n",
            "Successfully installed sentencepiece-0.1.96\n"
          ]
        }
      ],
      "source": [
        "pip install sentencepiece"
      ]
    },
    {
      "cell_type": "code",
      "execution_count": null,
      "metadata": {
        "id": "XelbLP58DQbp"
      },
      "outputs": [],
      "source": [
        "def length(text):\n",
        "    text=text.split()\n",
        "    return len(text)\n",
        "df['len']=df['clean_text'].apply(length)"
      ]
    },
    {
      "cell_type": "code",
      "execution_count": null,
      "metadata": {
        "colab": {
          "base_uri": "https://localhost:8080/"
        },
        "id": "7hWeif_RF8T6",
        "outputId": "e78b30b4-f6e6-4516-e069-997e4038a2a4"
      },
      "outputs": [
        {
          "output_type": "execute_result",
          "data": {
            "text/plain": [
              "(0, 52)"
            ]
          },
          "metadata": {},
          "execution_count": 12
        }
      ],
      "source": [
        "min(df.len.values),max(df.len.values)"
      ]
    },
    {
      "cell_type": "code",
      "execution_count": null,
      "metadata": {
        "id": "boqEYIDHGsN3",
        "colab": {
          "base_uri": "https://localhost:8080/"
        },
        "outputId": "e9704390-ee92-45f1-a6e9-7802d2194544"
      },
      "outputs": [
        {
          "output_type": "stream",
          "name": "stdout",
          "text": [
            "Model: \"model_4\"\n",
            "__________________________________________________________________________________________________\n",
            " Layer (type)                   Output Shape         Param #     Connected to                     \n",
            "==================================================================================================\n",
            " input_word_ids (InputLayer)    [(None, 54)]         0           []                               \n",
            "                                                                                                  \n",
            " input_mask (InputLayer)        [(None, 54)]         0           []                               \n",
            "                                                                                                  \n",
            " segment_ids (InputLayer)       [(None, 54)]         0           []                               \n",
            "                                                                                                  \n",
            " keras_layer_9 (KerasLayer)     [(None, 768),        109482241   ['input_word_ids[0][0]',         \n",
            "                                 (None, 54, 768)]                 'input_mask[0][0]',             \n",
            "                                                                  'segment_ids[0][0]']            \n",
            "                                                                                                  \n",
            " dropout_4 (Dropout)            (None, 768)          0           ['keras_layer_9[0][0]']          \n",
            "                                                                                                  \n",
            " flatten_4 (Flatten)            (None, 768)          0           ['dropout_4[0][0]']              \n",
            "                                                                                                  \n",
            " dense_12 (Dense)               (None, 256)          196864      ['flatten_4[0][0]']              \n",
            "                                                                                                  \n",
            " dense_13 (Dense)               (None, 3)            771         ['dense_12[0][0]']               \n",
            "                                                                                                  \n",
            "==================================================================================================\n",
            "Total params: 109,679,876\n",
            "Trainable params: 197,635\n",
            "Non-trainable params: 109,482,241\n",
            "__________________________________________________________________________________________________\n"
          ]
        }
      ],
      "source": [
        "max_seq_length = 54\n",
        "\n",
        "\n",
        "input_word_ids = tf.keras.layers.Input(shape=(max_seq_length,), dtype=tf.int32, name=\"input_word_ids\")\n",
        "\n",
        "\n",
        "input_mask = tf.keras.layers.Input(shape=(max_seq_length,), dtype=tf.int32, name=\"input_mask\")\n",
        "\n",
        "\n",
        "segment_ids = tf.keras.layers.Input(shape=(max_seq_length,), dtype=tf.int32, name=\"segment_ids\")\n",
        "\n",
        "\n",
        "bert_layer = hub.KerasLayer(\"https://tfhub.dev/tensorflow/bert_en_uncased_L-12_H-768_A-12/1\", trainable=False)\n",
        "pooled_output, sequence_output = bert_layer([input_word_ids, input_mask, segment_ids])\n",
        "x = tf.keras.layers.Dropout(0.1)(pooled_output)\n",
        "x = tf.keras.layers.Flatten()(x)\n",
        "x = tf.keras.layers.Dense(256, activation='relu')(x)\n",
        "x = tf.keras.layers.Dense(3, activation='softmax')(x)\n",
        "\n",
        "model = tf.keras.Model(inputs=[input_word_ids, input_mask, segment_ids], outputs=x)\n",
        "model.compile(optimizer=tf.keras.optimizers.Adam(lr=1e-5),loss='categorical_crossentropy',metrics=['accuracy'])\n",
        "model.summary()"
      ]
    },
    {
      "cell_type": "code",
      "source": [
        "tf.keras.utils.plot_model(model, \"text_clss.png\", show_shapes=True)"
      ],
      "metadata": {
        "colab": {
          "base_uri": "https://localhost:8080/",
          "height": 530
        },
        "id": "iuhWuoOrilQK",
        "outputId": "2fbb4189-27bc-4464-e045-877114c7e680"
      },
      "execution_count": null,
      "outputs": [
        {
          "output_type": "execute_result",
          "data": {
            "image/png": "[encoded data removed]",
            "text/plain": [
              "<IPython.core.display.Image object>"
            ]
          },
          "metadata": {},
          "execution_count": 34
        }
      ]
    },
    {
      "cell_type": "code",
      "execution_count": null,
      "metadata": {
        "id": "8SbCYwJ2HFPU"
      },
      "outputs": [],
      "source": [
        "vocab_file = bert_layer.resolved_object.vocab_file.asset_path.numpy()\n",
        "do_lower_case = bert_layer.resolved_object.do_lower_case.numpy()\n",
        "tokenizer=tokenization.FullTokenizer(vocab_file,do_lower_case)"
      ]
    },
    {
      "cell_type": "code",
      "execution_count": null,
      "metadata": {
        "id": "51mn53c9HkSK"
      },
      "outputs": [],
      "source": [
        "def tokenization_(dataset):\n",
        "  allowed=52\n",
        "  dataset_tokens=[]\n",
        "  dataset_mask=[]\n",
        "  dataset_segment=[]\n",
        "  for i in range(len(dataset)):\n",
        "    mask=[]\n",
        "    tokenized=tokenizer.tokenize(dataset[i])\n",
        "    while len(tokenized)<allowed:\n",
        "      tokenized.append('[PAD]')\n",
        "    while len(tokenized)>allowed:\n",
        "      del tokenized[len(tokenized)-1]\n",
        "    if len(tokenized)==allowed:\n",
        "      tokens=['[CLS]',*tokenized,'[SEP]']\n",
        "\n",
        "    for j in tokens:\n",
        "      if j=='[PAD]':\n",
        "        mask.append(0)\n",
        "      elif j!='[PAD]':\n",
        "        mask.append(1)\n",
        "\n",
        "    segment=np.array([0]*54)\n",
        "    token_ids=tokenizer.convert_tokens_to_ids(tokens)\n",
        "    dataset_tokens.append(token_ids)\n",
        "    dataset_mask.append(mask)\n",
        "    dataset_segment.append(segment)\n",
        "  return np.array(dataset_tokens),np.array(dataset_mask),np.array(dataset_segment)\n"
      ]
    },
    {
      "cell_type": "code",
      "execution_count": null,
      "metadata": {
        "id": "NEAJn1zvH8aY"
      },
      "outputs": [],
      "source": [
        "X_train_tokens, X_train_mask, X_train_segment=tokenization_(train.clean_text.values)"
      ]
    },
    {
      "cell_type": "code",
      "execution_count": null,
      "metadata": {
        "id": "RVueVR2SIFDu"
      },
      "outputs": [],
      "source": [
        "X_test_tokens, X_test_mask, X_test_segment=tokenization_(test.clean_text.values)"
      ]
    },
    {
      "cell_type": "code",
      "source": [
        "y_train=OneHotEncoder().fit_transform(y_train.reshape(-1,1)).todense()\n",
        "y_test=OneHotEncoder().fit_transform(y_test.reshape(-1,1)).todense()"
      ],
      "metadata": {
        "id": "2cDsMNptB65V"
      },
      "execution_count": null,
      "outputs": []
    },
    {
      "cell_type": "code",
      "source": [
        "    history = model.fit([X_train_tokens, X_train_mask, X_train_segment],\n",
        "                        y_train,\n",
        "                        epochs=3,\n",
        "                        batch_size=100,\n",
        "                        verbose=1,\n",
        "                        validation_data=([X_test_tokens, X_test_mask, X_test_segment], y_test))"
      ],
      "metadata": {
        "colab": {
          "base_uri": "https://localhost:8080/"
        },
        "id": "yNagl7UFCHou",
        "outputId": "1c427e15-d683-4d48-eb33-1ea29ee661fb"
      },
      "execution_count": null,
      "outputs": [
        {
          "output_type": "stream",
          "name": "stdout",
          "text": [
            "Epoch 1/3\n",
            "1325/1325 [==============================] - 1140s 850ms/step - loss: 0.9061 - accuracy: 0.5563 - val_loss: 0.7471 - val_accuracy: 0.6930\n",
            "Epoch 2/3\n",
            "1325/1325 [==============================] - 1121s 846ms/step - loss: 0.7136 - accuracy: 0.6715 - val_loss: 0.6438 - val_accuracy: 0.7273\n",
            "Epoch 3/3\n",
            "1325/1325 [==============================] - 1121s 846ms/step - loss: 0.6414 - accuracy: 0.7060 - val_loss: 0.5925 - val_accuracy: 0.7430\n"
          ]
        }
      ]
    },
    {
      "cell_type": "code",
      "source": [
        "    history = model.fit([X_train_tokens, X_train_mask, X_train_segment],\n",
        "                        y_train,\n",
        "                        epochs=3,\n",
        "                        batch_size=100,\n",
        "                        verbose=1,\n",
        "                        validation_data=([X_test_tokens, X_test_mask, X_test_segment], y_test))"
      ],
      "metadata": {
        "colab": {
          "base_uri": "https://localhost:8080/"
        },
        "id": "rKxMN2vA--dt",
        "outputId": "f5ecd0c9-d84a-4255-8573-d51621fe43d4"
      },
      "execution_count": null,
      "outputs": [
        {
          "output_type": "stream",
          "name": "stdout",
          "text": [
            "Epoch 1/3\n",
            "1325/1325 [==============================] - 1116s 842ms/step - loss: 0.6027 - accuracy: 0.7222 - val_loss: 0.5628 - val_accuracy: 0.7517\n",
            "Epoch 2/3\n",
            "1325/1325 [==============================] - 1114s 841ms/step - loss: 0.5796 - accuracy: 0.7319 - val_loss: 0.5421 - val_accuracy: 0.7596\n",
            "Epoch 3/3\n",
            "1325/1325 [==============================] - 1114s 841ms/step - loss: 0.5624 - accuracy: 0.7405 - val_loss: 0.5274 - val_accuracy: 0.7645\n"
          ]
        }
      ]
    },
    {
      "cell_type": "markdown",
      "source": [
        "#### Better performance than previous, but stil not better than BOW, now clearly BOW gives the best results so we will train  NN on those features and try to improve performance\n",
        "#### We are left with one more vectorisation technique which is word embedding which we will use while training NN having LSTM/CNN layers "
      ],
      "metadata": {
        "id": "WikMD_5n1qG4"
      }
    },
    {
      "cell_type": "markdown",
      "metadata": {
        "id": "M5GIRppmSfVK"
      },
      "source": [
        "# BOW+DNN"
      ]
    },
    {
      "cell_type": "code",
      "execution_count": null,
      "metadata": {
        "id": "xeT254a7VlAv"
      },
      "outputs": [],
      "source": [
        "import os\n",
        "import re\n",
        "from tqdm import tqdm_notebook as tq\n",
        "import pandas as pd\n",
        "import nltk\n",
        "import warnings\n",
        "warnings.filterwarnings(\"ignore\")\n",
        "from keras_preprocessing import sequence\n",
        "from keras.models import Sequential\n",
        "from keras.layers import Dense,Dropout,Activation,Reshape\n",
        "from tensorflow.keras.layers import Embedding,LSTM\n",
        "from keras.layers import Conv1D,Flatten\n",
        "from keras.layers import Concatenate\n",
        "from keras.layers import MaxPooling1D\n",
        "from keras.preprocessing import text\n",
        "import numpy as np\n",
        "from sklearn.model_selection import train_test_split\n",
        "import tensorflow as tf\n",
        "from keras.layers import Input\n",
        "from keras.models import Model\n",
        "from tensorflow.keras.layers import Input, Embedding, Activation, Flatten, Dense\n",
        "import numpy as np\n",
        "from keras.callbacks import Callback\n",
        "from sklearn.metrics import f1_score\n",
        "from sklearn import metrics\n",
        "from sklearn.metrics import roc_auc_score\n",
        "import matplotlib.pyplot as plt"
      ]
    },
    {
      "cell_type": "code",
      "execution_count": null,
      "metadata": {
        "id": "7l7JXWSkSilA"
      },
      "outputs": [],
      "source": [
        "inputs = tf.keras.layers.Input((1453,), name=\"input\", )\n",
        "r=Dense(564,activation='relu')(inputs)\n",
        "d1=Dropout(0.85)(r)\n",
        "d=Dense(128,activation='relu')(d1)\n",
        "d2=Dropout(0.9)(d)\n",
        "den=Dense(3,activation=\"softmax\")(d2)\n",
        "model=tf.keras.Model(inputs=inputs,outputs=den)"
      ]
    },
    {
      "cell_type": "code",
      "execution_count": null,
      "metadata": {
        "colab": {
          "base_uri": "https://localhost:8080/"
        },
        "id": "4eOyoGcFheSi",
        "outputId": "4abc9efe-bdd3-4274-80fe-62cefc40b3ea"
      },
      "outputs": [
        {
          "output_type": "stream",
          "name": "stdout",
          "text": [
            "Model: \"model_3\"\n",
            "_________________________________________________________________\n",
            " Layer (type)                Output Shape              Param #   \n",
            "=================================================================\n",
            " input (InputLayer)          [(None, 1453)]            0         \n",
            "                                                                 \n",
            " dense_9 (Dense)             (None, 564)               820056    \n",
            "                                                                 \n",
            " dropout_2 (Dropout)         (None, 564)               0         \n",
            "                                                                 \n",
            " dense_10 (Dense)            (None, 128)               72320     \n",
            "                                                                 \n",
            " dropout_3 (Dropout)         (None, 128)               0         \n",
            "                                                                 \n",
            " dense_11 (Dense)            (None, 3)                 387       \n",
            "                                                                 \n",
            "=================================================================\n",
            "Total params: 892,763\n",
            "Trainable params: 892,763\n",
            "Non-trainable params: 0\n",
            "_________________________________________________________________\n"
          ]
        }
      ],
      "source": [
        "model.summary()"
      ]
    },
    {
      "cell_type": "code",
      "execution_count": null,
      "metadata": {
        "id": "xL_4SzEOUMMn"
      },
      "outputs": [],
      "source": [
        "model.compile(loss='CategoricalCrossentropy',\n",
        "              optimizer='adam',\n",
        "              metrics=['accuracy'])"
      ]
    },
    {
      "cell_type": "code",
      "source": [
        "train_y=OneHotEncoder().fit_transform(y_train.reshape(-1,1)).todense()\n",
        "test_y=OneHotEncoder().fit_transform(y_test.reshape(-1,1)).todense()"
      ],
      "metadata": {
        "id": "tAq-2Wjl41iI"
      },
      "execution_count": null,
      "outputs": []
    },
    {
      "cell_type": "code",
      "execution_count": null,
      "metadata": {
        "colab": {
          "base_uri": "https://localhost:8080/"
        },
        "id": "iikVTKFBU-ev",
        "outputId": "85b40a89-9caf-40be-963b-c60599028b9e"
      },
      "outputs": [
        {
          "output_type": "stream",
          "name": "stdout",
          "text": [
            "Epoch 1/30\n",
            "2608/2608 [==============================] - 16s 6ms/step - loss: 0.8981 - accuracy: 0.5919 - val_loss: 0.6111 - val_accuracy: 0.7753\n",
            "Epoch 2/30\n",
            "2608/2608 [==============================] - 15s 6ms/step - loss: 0.6758 - accuracy: 0.7418 - val_loss: 0.5174 - val_accuracy: 0.8292\n",
            "Epoch 3/30\n",
            "2608/2608 [==============================] - 15s 6ms/step - loss: 0.6133 - accuracy: 0.7796 - val_loss: 0.4912 - val_accuracy: 0.8419\n",
            "Epoch 4/30\n",
            "2608/2608 [==============================] - 15s 6ms/step - loss: 0.5915 - accuracy: 0.7930 - val_loss: 0.4887 - val_accuracy: 0.8408\n",
            "Epoch 5/30\n",
            "2608/2608 [==============================] - 14s 6ms/step - loss: 0.5801 - accuracy: 0.8004 - val_loss: 0.4755 - val_accuracy: 0.8472\n",
            "Epoch 6/30\n",
            "2608/2608 [==============================] - 15s 6ms/step - loss: 0.5647 - accuracy: 0.8063 - val_loss: 0.4734 - val_accuracy: 0.8473\n",
            "Epoch 7/30\n",
            "2608/2608 [==============================] - 15s 6ms/step - loss: 0.5603 - accuracy: 0.8086 - val_loss: 0.4700 - val_accuracy: 0.8485\n",
            "Epoch 8/30\n",
            "2608/2608 [==============================] - 14s 6ms/step - loss: 0.5526 - accuracy: 0.8131 - val_loss: 0.4720 - val_accuracy: 0.8491\n",
            "Epoch 9/30\n",
            "2608/2608 [==============================] - 15s 6ms/step - loss: 0.5478 - accuracy: 0.8155 - val_loss: 0.4728 - val_accuracy: 0.8485\n",
            "Epoch 10/30\n",
            "2608/2608 [==============================] - 14s 6ms/step - loss: 0.5465 - accuracy: 0.8169 - val_loss: 0.4680 - val_accuracy: 0.8498\n",
            "Epoch 11/30\n",
            "2608/2608 [==============================] - 14s 6ms/step - loss: 0.5407 - accuracy: 0.8190 - val_loss: 0.4695 - val_accuracy: 0.8504\n",
            "Epoch 12/30\n",
            "2608/2608 [==============================] - 14s 5ms/step - loss: 0.5365 - accuracy: 0.8209 - val_loss: 0.4697 - val_accuracy: 0.8503\n",
            "Epoch 13/30\n",
            "2608/2608 [==============================] - 14s 6ms/step - loss: 0.5336 - accuracy: 0.8209 - val_loss: 0.4715 - val_accuracy: 0.8496\n",
            "Epoch 14/30\n",
            "2608/2608 [==============================] - 15s 6ms/step - loss: 0.5324 - accuracy: 0.8236 - val_loss: 0.4763 - val_accuracy: 0.8495\n",
            "Epoch 15/30\n",
            "2608/2608 [==============================] - 15s 6ms/step - loss: 0.5263 - accuracy: 0.8257 - val_loss: 0.4729 - val_accuracy: 0.8504\n",
            "Epoch 16/30\n",
            "2608/2608 [==============================] - 15s 6ms/step - loss: 0.5255 - accuracy: 0.8268 - val_loss: 0.4764 - val_accuracy: 0.8505\n",
            "Epoch 17/30\n",
            "2608/2608 [==============================] - 15s 6ms/step - loss: 0.5230 - accuracy: 0.8277 - val_loss: 0.4746 - val_accuracy: 0.8501\n",
            "Epoch 18/30\n",
            "2608/2608 [==============================] - 15s 6ms/step - loss: 0.5217 - accuracy: 0.8284 - val_loss: 0.4771 - val_accuracy: 0.8503\n",
            "Epoch 19/30\n",
            "2608/2608 [==============================] - 14s 6ms/step - loss: 0.5159 - accuracy: 0.8302 - val_loss: 0.4777 - val_accuracy: 0.8506\n",
            "Epoch 20/30\n",
            "2608/2608 [==============================] - 15s 6ms/step - loss: 0.5194 - accuracy: 0.8292 - val_loss: 0.4776 - val_accuracy: 0.8499\n",
            "Epoch 21/30\n",
            "2608/2608 [==============================] - 14s 6ms/step - loss: 0.5177 - accuracy: 0.8299 - val_loss: 0.4798 - val_accuracy: 0.8500\n",
            "Epoch 22/30\n",
            "2608/2608 [==============================] - 14s 5ms/step - loss: 0.5149 - accuracy: 0.8315 - val_loss: 0.4817 - val_accuracy: 0.8501\n",
            "Epoch 23/30\n",
            "2608/2608 [==============================] - 15s 6ms/step - loss: 0.5119 - accuracy: 0.8326 - val_loss: 0.4746 - val_accuracy: 0.8502\n",
            "Epoch 24/30\n",
            "2608/2608 [==============================] - 15s 6ms/step - loss: 0.5111 - accuracy: 0.8324 - val_loss: 0.4817 - val_accuracy: 0.8498\n",
            "Epoch 25/30\n",
            "2608/2608 [==============================] - 14s 5ms/step - loss: 0.5069 - accuracy: 0.8337 - val_loss: 0.4880 - val_accuracy: 0.8488\n",
            "Epoch 26/30\n",
            "2608/2608 [==============================] - 15s 6ms/step - loss: 0.5059 - accuracy: 0.8348 - val_loss: 0.4881 - val_accuracy: 0.8490\n",
            "Epoch 27/30\n",
            "2608/2608 [==============================] - 14s 6ms/step - loss: 0.5050 - accuracy: 0.8355 - val_loss: 0.4894 - val_accuracy: 0.8497\n",
            "Epoch 28/30\n",
            "2608/2608 [==============================] - 14s 5ms/step - loss: 0.5045 - accuracy: 0.8356 - val_loss: 0.4866 - val_accuracy: 0.8497\n",
            "Epoch 29/30\n",
            "2608/2608 [==============================] - 15s 6ms/step - loss: 0.5005 - accuracy: 0.8368 - val_loss: 0.4947 - val_accuracy: 0.8490\n",
            "Epoch 30/30\n",
            "2608/2608 [==============================] - 14s 5ms/step - loss: 0.5012 - accuracy: 0.8367 - val_loss: 0.4875 - val_accuracy: 0.8489\n"
          ]
        },
        {
          "output_type": "execute_result",
          "data": {
            "text/plain": [
              "<keras.callbacks.History at 0x7f23a5b8da90>"
            ]
          },
          "metadata": {},
          "execution_count": 33
        }
      ],
      "source": [
        "model.fit(train_x,train_y, batch_size=50,validation_data=[test_x,test_y], epochs=30)"
      ]
    },
    {
      "cell_type": "code",
      "source": [
        "pred=model.predict(test_x)"
      ],
      "metadata": {
        "id": "y00XXWlkDwAC"
      },
      "execution_count": null,
      "outputs": []
    },
    {
      "cell_type": "code",
      "source": [
        "p=[]\n",
        "for i in pred:\n",
        "    i=np.argmax(i)\n",
        "    if i==0:\n",
        "        p.append('Neg')\n",
        "    elif i==1:\n",
        "        p.append('Neu')\n",
        "    elif i==2:\n",
        "        p.append('Pos')\n",
        "accuracy_score(y_test,p)"
      ],
      "metadata": {
        "colab": {
          "base_uri": "https://localhost:8080/"
        },
        "id": "31y1_hsgED0V",
        "outputId": "8e143884-fc7d-4885-903f-d218d7775ab9"
      },
      "execution_count": null,
      "outputs": [
        {
          "output_type": "execute_result",
          "data": {
            "text/plain": [
              "0.848867889795668"
            ]
          },
          "metadata": {},
          "execution_count": 36
        }
      ]
    },
    {
      "cell_type": "code",
      "source": [
        "plot_confusion_matrix(y_test,p)"
      ],
      "metadata": {
        "colab": {
          "base_uri": "https://localhost:8080/",
          "height": 314
        },
        "id": "VZLmJcrTEFWE",
        "outputId": "7f3dc0e7-08fb-40b9-ffc3-fd4e423d4bb1"
      },
      "execution_count": null,
      "outputs": [
        {
          "output_type": "display_data",
          "data": {
            "image/png": "[encoded data removed]",
            "text/plain": [
              "<Figure size 1440x288 with 6 Axes>"
            ]
          },
          "metadata": {
            "needs_background": "light"
          }
        }
      ]
    },
    {
      "cell_type": "markdown",
      "source": [
        "#### Pefformance has slightly improved with NN for BOW (84%), still lowest performance on negative class though it has 2nd highest precision"
      ],
      "metadata": {
        "id": "dYsMWbkuEw0X"
      }
    },
    {
      "cell_type": "markdown",
      "source": [
        "# Word Embedding + LSTM and CNN"
      ],
      "metadata": {
        "id": "sdk5ut_xFPLX"
      }
    },
    {
      "cell_type": "code",
      "source": [
        "def length(text):\n",
        "    text=text.split()\n",
        "    return len(text)\n",
        "df['len']=df['clean_text'].apply(length)"
      ],
      "metadata": {
        "id": "60zwuDzeTtHk"
      },
      "execution_count": null,
      "outputs": []
    },
    {
      "cell_type": "code",
      "source": [
        "df"
      ],
      "metadata": {
        "colab": {
          "base_uri": "https://localhost:8080/",
          "height": 423
        },
        "id": "AziC1xszvI6J",
        "outputId": "5e4075c5-1418-428c-dab1-8a9f76a3048f"
      },
      "execution_count": null,
      "outputs": [
        {
          "output_type": "execute_result",
          "data": {
            "text/html": [
              "<div>\n",
              "<style scoped>\n",
              "    .dataframe tbody tr th:only-of-type {\n",
              "        vertical-align: middle;\n",
              "    }\n",
              "\n",
              "    .dataframe tbody tr th {\n",
              "        vertical-align: top;\n",
              "    }\n",
              "\n",
              "    .dataframe thead th {\n",
              "        text-align: right;\n",
              "    }\n",
              "</style>\n",
              "<table border=\"1\" class=\"dataframe\">\n",
              "  <thead>\n",
              "    <tr style=\"text-align: right;\">\n",
              "      <th></th>\n",
              "      <th>target</th>\n",
              "      <th>clean_text</th>\n",
              "      <th>len</th>\n",
              "    </tr>\n",
              "  </thead>\n",
              "  <tbody>\n",
              "    <tr>\n",
              "      <th>0</th>\n",
              "      <td>Neg</td>\n",
              "      <td>is upset that he can not update his facebook b...</td>\n",
              "      <td>22</td>\n",
              "    </tr>\n",
              "    <tr>\n",
              "      <th>1</th>\n",
              "      <td>Neg</td>\n",
              "      <td>i dived many times for the ball managed to sav...</td>\n",
              "      <td>16</td>\n",
              "    </tr>\n",
              "    <tr>\n",
              "      <th>2</th>\n",
              "      <td>Neg</td>\n",
              "      <td>my whole body feels itchy and like its on fire</td>\n",
              "      <td>10</td>\n",
              "    </tr>\n",
              "    <tr>\n",
              "      <th>3</th>\n",
              "      <td>Neg</td>\n",
              "      <td>no it is not behaving at all i am mad why am i...</td>\n",
              "      <td>23</td>\n",
              "    </tr>\n",
              "    <tr>\n",
              "      <th>4</th>\n",
              "      <td>Neg</td>\n",
              "      <td>not the whole crew</td>\n",
              "      <td>4</td>\n",
              "    </tr>\n",
              "    <tr>\n",
              "      <th>...</th>\n",
              "      <td>...</td>\n",
              "      <td>...</td>\n",
              "      <td>...</td>\n",
              "    </tr>\n",
              "    <tr>\n",
              "      <th>165580</th>\n",
              "      <td>Neu</td>\n",
              "      <td>case dont look candidate then that case person...</td>\n",
              "      <td>40</td>\n",
              "    </tr>\n",
              "    <tr>\n",
              "      <th>165581</th>\n",
              "      <td>Neu</td>\n",
              "      <td>congress veteran sudhakar reddy joins bjp afte...</td>\n",
              "      <td>9</td>\n",
              "    </tr>\n",
              "    <tr>\n",
              "      <th>165582</th>\n",
              "      <td>Neu</td>\n",
              "      <td>save your agenda peddling ’ had with terror at...</td>\n",
              "      <td>41</td>\n",
              "    </tr>\n",
              "    <tr>\n",
              "      <th>165583</th>\n",
              "      <td>Neu</td>\n",
              "      <td>did you cover her interaction forum where she ...</td>\n",
              "      <td>9</td>\n",
              "    </tr>\n",
              "    <tr>\n",
              "      <th>165584</th>\n",
              "      <td>Neu</td>\n",
              "      <td>there big project came into india modi dream p...</td>\n",
              "      <td>13</td>\n",
              "    </tr>\n",
              "  </tbody>\n",
              "</table>\n",
              "<p>165583 rows × 3 columns</p>\n",
              "</div>"
            ],
            "text/plain": [
              "       target                                         clean_text  len\n",
              "0         Neg  is upset that he can not update his facebook b...   22\n",
              "1         Neg  i dived many times for the ball managed to sav...   16\n",
              "2         Neg     my whole body feels itchy and like its on fire   10\n",
              "3         Neg  no it is not behaving at all i am mad why am i...   23\n",
              "4         Neg                                 not the whole crew    4\n",
              "...       ...                                                ...  ...\n",
              "165580    Neu  case dont look candidate then that case person...   40\n",
              "165581    Neu  congress veteran sudhakar reddy joins bjp afte...    9\n",
              "165582    Neu  save your agenda peddling ’ had with terror at...   41\n",
              "165583    Neu  did you cover her interaction forum where she ...    9\n",
              "165584    Neu  there big project came into india modi dream p...   13\n",
              "\n",
              "[165583 rows x 3 columns]"
            ]
          },
          "metadata": {},
          "execution_count": 43
        }
      ]
    },
    {
      "cell_type": "code",
      "source": [
        "df.target.value_counts()"
      ],
      "metadata": {
        "colab": {
          "base_uri": "https://localhost:8080/"
        },
        "id": "0PX7W4RxjHXb",
        "outputId": "0678aa9e-76ed-4f0a-edc9-447065226f6e"
      },
      "execution_count": null,
      "outputs": [
        {
          "output_type": "execute_result",
          "data": {
            "text/plain": [
              "Pos    55372\n",
              "Neu    55211\n",
              "Neg    55000\n",
              "Name: target, dtype: int64"
            ]
          },
          "metadata": {},
          "execution_count": 13
        }
      ]
    },
    {
      "cell_type": "code",
      "source": [
        "import tensorflow as tf\n",
        "\n",
        "from tensorflow import keras\n",
        "from tensorflow.keras.layers import Input, Conv2D,Conv1D, MaxPooling2D, Dense, Flatten,LSTM,concatenate,Embedding,SpatialDropout1D,Dropout,Reshape,Concatenate,GlobalAveragePooling1D,GlobalMaxPooling1D\n",
        "from tensorflow.keras.models import Model\n",
        "from tensorflow.keras.layers import LeakyReLU\n",
        "from keras.initializers import he_normal,glorot_normal\n",
        "from keras.regularizers import l1,l2"
      ],
      "metadata": {
        "id": "E5MjPW6-HgCw"
      },
      "execution_count": null,
      "outputs": []
    },
    {
      "cell_type": "markdown",
      "source": [
        "#### We are gonna use embedding layer to provide word embeddings to lstm and cnn layers, then concat it followed by dense layers"
      ],
      "metadata": {
        "id": "iAm5IAvE2wcG"
      }
    },
    {
      "cell_type": "code",
      "source": [
        "# splitting data\n",
        "X_train,X_test=train_test_split(df,stratify=df.target,test_size=0.2)\n",
        "train_tweet=X_train.clean_text.values\n",
        "test_tweet=X_test.clean_text.values\n",
        "train_labels=X_train.target.values\n",
        "test_labels=X_test.target.values\n",
        "train_len=X_train.len.values \n",
        "test_len=X_test.len.values"
      ],
      "metadata": {
        "id": "HuOPlk1MEpdd"
      },
      "execution_count": null,
      "outputs": []
    },
    {
      "cell_type": "code",
      "source": [
        "# Tokenizing it for embedding layers\n",
        "tokenizer=text.Tokenizer(300)\n",
        "tokenizer.fit_on_texts(train_tweet)\n",
        "X_train_tweets=tokenizer.texts_to_matrix(train_tweet)\n",
        "X_test_tweets=tokenizer.texts_to_matrix(test_tweet)\n"
      ],
      "metadata": {
        "id": "Cd69jNyAFO5u"
      },
      "execution_count": null,
      "outputs": []
    },
    {
      "cell_type": "code",
      "source": [
        "vocab_size=len(tokenizer.word_index)+1\n",
        "vocab_size"
      ],
      "metadata": {
        "colab": {
          "base_uri": "https://localhost:8080/"
        },
        "id": "4aGc6GFWF_Tn",
        "outputId": "89db8509-6f50-4d60-da8c-9f54e7ce6bbd"
      },
      "execution_count": null,
      "outputs": [
        {
          "output_type": "execute_result",
          "data": {
            "text/plain": [
              "87991"
            ]
          },
          "metadata": {},
          "execution_count": 46
        }
      ]
    },
    {
      "cell_type": "code",
      "source": [
        "# tokennising with max len 300\n",
        "from keras_preprocessing import sequence\n",
        "X_train_tweets=sequence.pad_sequences(X_train_tweets,maxlen=300)\n",
        "X_test_tweets=sequence.pad_sequences(X_test_tweets,maxlen=300)\n"
      ],
      "metadata": {
        "id": "VpIeCI0pGC-R"
      },
      "execution_count": null,
      "outputs": []
    },
    {
      "cell_type": "code",
      "source": [
        "train_y=OneHotEncoder().fit_transform(train_labels.reshape(-1,1)).todense()\n",
        "test_y=OneHotEncoder().fit_transform(test_labels.reshape(-1,1)).todense()"
      ],
      "metadata": {
        "id": "tMP3Js5hG0s8"
      },
      "execution_count": null,
      "outputs": []
    },
    {
      "cell_type": "code",
      "source": [
        "# using metrix as weights of embedding layer created from glove vectors \n",
        "index=dict()\n",
        "f=open(\"/content/glove.6B.300d.txt\")\n",
        "for line in f:\n",
        "  values=line.split()\n",
        "  word=values[0]\n",
        "  coefs=np.asarray(values[1:],dtype='float32')\n",
        "  index[word]=coefs\n",
        "f.close()"
      ],
      "metadata": {
        "id": "732B76vLjqCt"
      },
      "execution_count": null,
      "outputs": []
    },
    {
      "cell_type": "code",
      "source": [
        "metrics=np.zeros((vocab_size,300))\n",
        "\n",
        "for word,ind in tokenizer.word_index.items():\n",
        "  if ind > vocab_size-1:\n",
        "    break\n",
        "  else:\n",
        "    vector=index.get(word)\n",
        "    if vector is not None:\n",
        "      metrics[ind]=vector"
      ],
      "metadata": {
        "id": "wQls9S7jjyrN"
      },
      "execution_count": null,
      "outputs": []
    },
    {
      "cell_type": "code",
      "source": [
        "# Architecture \n",
        "# Instead of COnv1D layer i have used Temporal Convolution Network TCN which is good for sequencial and temporal data\n",
        "embadding_layer=Embedding(input_dim=vocab_size,output_dim=300,weights=[metrics],trainable=True)\n",
        "input= Input(shape=(300,))\n",
        "\n",
        "x = embadding_layer(input)\n",
        "x1 =LSTM(128,return_sequences=True)(x)\n",
        "x1 = SpatialDropout1D(0.3)(x1)\n",
        "x1 = Flatten()(x1)\n",
        "\n",
        "input2=Input(shape=(300))\n",
        "emb=Embedding(input_dim=vocab_size,output_dim=300,weights=[metrics],trainable=True)(input2)\n",
        "x2 = SpatialDropout1D(0.1)(emb)\n",
        "    \n",
        "#x2 = TCN(128,dilations = [1, 2, 4], return_sequences=True, activation = 'relu', name = 'tcn1')(x2)\n",
        "x2 = TCN(64,dilations = [1, 2, 4], return_sequences=True, activation = 'relu', name = 'tcn2')(x2)\n",
        "x2 = GlobalMaxPooling1D()(x2)   \n",
        "\n",
        "\n",
        "input3=Input(shape=(1,))\n",
        "x3=Dense(128,activation='relu')(input3)\n",
        "x=Concatenate()([x1,x2,x3])\n",
        "x=RandomFourierFeatures(output_dim=4090, scale=10.0, kernel_initializer=\"gaussian\")(x)\n",
        "x = Dense(8,kernel_initializer=he_normal(),kernel_regularizer=l2(0.0001))(x)\n",
        "x = Dropout(0.5)(x)\n",
        "\n",
        "x = Dense(8,kernel_initializer=he_normal(),kernel_regularizer=l2(0.0001))(x)\n",
        "x = LeakyReLU()(x)\n",
        "output= Dense(3,activation='softmax')(x)\n",
        "model_1=Model([input,input2,input3], output)\n",
        "\n",
        "model_1.summary()"
      ],
      "metadata": {
        "colab": {
          "base_uri": "https://localhost:8080/"
        },
        "id": "b7_H6lJdG_4y",
        "outputId": "a8d027ce-2b3e-4d41-f32d-030fdd5382ca"
      },
      "execution_count": null,
      "outputs": [
        {
          "output_type": "stream",
          "name": "stdout",
          "text": [
            "Model: \"model_1\"\n",
            "__________________________________________________________________________________________________\n",
            " Layer (type)                   Output Shape         Param #     Connected to                     \n",
            "==================================================================================================\n",
            " input_5 (InputLayer)           [(None, 300)]        0           []                               \n",
            "                                                                                                  \n",
            " input_6 (InputLayer)           [(None, 300)]        0           []                               \n",
            "                                                                                                  \n",
            " embedding_3 (Embedding)        (None, 300, 300)     26397300    ['input_5[0][0]']                \n",
            "                                                                                                  \n",
            " embedding_4 (Embedding)        (None, 300, 300)     26397300    ['input_6[0][0]']                \n",
            "                                                                                                  \n",
            " lstm_1 (LSTM)                  (None, 300, 128)     219648      ['embedding_3[0][0]']            \n",
            "                                                                                                  \n",
            " spatial_dropout1d_3 (SpatialDr  (None, 300, 300)    0           ['embedding_4[0][0]']            \n",
            " opout1D)                                                                                         \n",
            "                                                                                                  \n",
            " spatial_dropout1d_2 (SpatialDr  (None, 300, 128)    0           ['lstm_1[0][0]']                 \n",
            " opout1D)                                                                                         \n",
            "                                                                                                  \n",
            " tcn2 (TCN)                     (None, 300, 64)      138688      ['spatial_dropout1d_3[0][0]']    \n",
            "                                                                                                  \n",
            " input_7 (InputLayer)           [(None, 1)]          0           []                               \n",
            "                                                                                                  \n",
            " flatten_1 (Flatten)            (None, 38400)        0           ['spatial_dropout1d_2[0][0]']    \n",
            "                                                                                                  \n",
            " global_max_pooling1d_1 (Global  (None, 64)          0           ['tcn2[0][0]']                   \n",
            " MaxPooling1D)                                                                                    \n",
            "                                                                                                  \n",
            " dense_4 (Dense)                (None, 128)          256         ['input_7[0][0]']                \n",
            "                                                                                                  \n",
            " concatenate_1 (Concatenate)    (None, 38592)        0           ['flatten_1[0][0]',              \n",
            "                                                                  'global_max_pooling1d_1[0][0]', \n",
            "                                                                  'dense_4[0][0]']                \n",
            "                                                                                                  \n",
            " random_fourier_features_1 (Ran  (None, 4090)        157845371   ['concatenate_1[0][0]']          \n",
            " domFourierFeatures)                                                                              \n",
            "                                                                                                  \n",
            " dense_5 (Dense)                (None, 8)            32728       ['random_fourier_features_1[0][0]\n",
            "                                                                 ']                               \n",
            "                                                                                                  \n",
            " dropout_1 (Dropout)            (None, 8)            0           ['dense_5[0][0]']                \n",
            "                                                                                                  \n",
            " dense_6 (Dense)                (None, 8)            72          ['dropout_1[0][0]']              \n",
            "                                                                                                  \n",
            " leaky_re_lu_1 (LeakyReLU)      (None, 8)            0           ['dense_6[0][0]']                \n",
            "                                                                                                  \n",
            " dense_7 (Dense)                (None, 3)            27          ['leaky_re_lu_1[0][0]']          \n",
            "                                                                                                  \n",
            "==================================================================================================\n",
            "Total params: 211,031,390\n",
            "Trainable params: 53,186,019\n",
            "Non-trainable params: 157,845,371\n",
            "__________________________________________________________________________________________________\n"
          ]
        }
      ]
    },
    {
      "cell_type": "code",
      "source": [
        "tf.keras.utils.plot_model(model_1, \"text_clss.png\", show_shapes=True)"
      ],
      "metadata": {
        "colab": {
          "base_uri": "https://localhost:8080/",
          "height": 961
        },
        "id": "JbjrbBnTM4WG",
        "outputId": "6b2f091f-2199-4fbb-d33c-48d156fb9e1e"
      },
      "execution_count": null,
      "outputs": [
        {
          "output_type": "execute_result",
          "data": {
            "image/png": "[encoded data removed]",
            "text/plain": [
              "<IPython.core.display.Image object>"
            ]
          },
          "metadata": {},
          "execution_count": 25
        }
      ]
    },
    {
      "cell_type": "code",
      "source": [
        "model_1.compile(loss='categorical_crossentropy', optimizer=keras.optimizers.Adam(lr=0.001,decay = 1e-4),metrics='accuracy')\n"
      ],
      "metadata": {
        "id": "Q0PkQRVCIBBx"
      },
      "execution_count": null,
      "outputs": []
    },
    {
      "cell_type": "code",
      "source": [
        "from keras.callbacks import Callback\n",
        "\n",
        "validation_data=([X_test_tweets,X_test_tweets,test_len],test_y)\n",
        "train_data=([X_train_tweets,X_train_tweets,train_len],train_y)\n",
        "class Metrics(Callback):\n",
        "  def on_train_begin(self, logs={}):\n",
        "    self.train_f1 = []\n",
        "    self.val_f1=[]\n",
        "\n",
        "  def on_epoch_end(self, epoch, logs={}):\n",
        "    val_predict = (np.asarray(self.model.predict(validation_data[0]))).round()\n",
        "    val_targ = validation_data[1]\n",
        "    _val_f1 = f1_score(val_targ, val_predict,average='micro')\n",
        "\n",
        "    train_predict = (np.asarray(self.model.predict(train_data[0]))).round()\n",
        "    train_targ = train_data[1]\n",
        "    _train_f1 = f1_score(train_targ, train_predict,average='micro')\n",
        "\n",
        "\n",
        "    self.train_f1.append(_train_f1)\n",
        "    self.val_f1.append(_val_f1)\n",
        "    \n",
        "    \n",
        "    print (\"Train F1 Score is: {} and Validation F1 Score is: {}\".format(_train_f1,_val_f1))\n",
        "  \n",
        " \n",
        "metrics = Metrics()"
      ],
      "metadata": {
        "id": "XjAEWds7vdXR"
      },
      "execution_count": null,
      "outputs": []
    },
    {
      "cell_type": "code",
      "source": [
        "cb=[metrics]\n",
        "\n",
        "model_1.fit([X_train_tweets,X_train_tweets,train_len],train_y,epochs=5, verbose=1, batch_size=556,validation_data=([X_test_tweets,X_test_tweets,test_len],test_y),callbacks=cb)"
      ],
      "metadata": {
        "colab": {
          "base_uri": "https://localhost:8080/"
        },
        "id": "GeggFpolIUai",
        "outputId": "0f7c6200-c209-4c61-fd6c-8d8bddf872d4"
      },
      "execution_count": null,
      "outputs": [
        {
          "output_type": "stream",
          "name": "stdout",
          "text": [
            "Epoch 1/5\n",
            "239/239 [==============================] - ETA: 0s - loss: 0.6963 - accuracy: 0.6545Train F1 Score is: 0.7554784691786283 and Validation F1 Score is: 0.755583223095479\n",
            "239/239 [==============================] - 538s 2s/step - loss: 0.6963 - accuracy: 0.6545 - val_loss: 0.4616 - val_accuracy: 0.7600\n",
            "Epoch 2/5\n",
            "239/239 [==============================] - ETA: 0s - loss: 0.5154 - accuracy: 0.7254Train F1 Score is: 0.770839968616728 and Validation F1 Score is: 0.7708718267215279\n",
            "239/239 [==============================] - 441s 2s/step - loss: 0.5154 - accuracy: 0.7254 - val_loss: 0.4443 - val_accuracy: 0.7768\n",
            "Epoch 3/5\n",
            "239/239 [==============================] - ETA: 0s - loss: 0.4939 - accuracy: 0.7390Train F1 Score is: 0.7711760401705001 and Validation F1 Score is: 0.7701849904101961\n",
            "239/239 [==============================] - 440s 2s/step - loss: 0.4939 - accuracy: 0.7390 - val_loss: 0.4451 - val_accuracy: 0.7741\n",
            "Epoch 4/5\n",
            "239/239 [==============================] - ETA: 0s - loss: 0.4839 - accuracy: 0.7471Train F1 Score is: 0.7884997232533026 and Validation F1 Score is: 0.7839900905783077\n",
            "239/239 [==============================] - 444s 2s/step - loss: 0.4839 - accuracy: 0.7471 - val_loss: 0.4303 - val_accuracy: 0.7858\n",
            "Epoch 5/5\n",
            "239/239 [==============================] - ETA: 0s - loss: 0.4788 - accuracy: 0.7481Train F1 Score is: 0.7896797866271988 and Validation F1 Score is: 0.7846262950172669\n",
            "239/239 [==============================] - 446s 2s/step - loss: 0.4788 - accuracy: 0.7481 - val_loss: 0.4253 - val_accuracy: 0.7854\n"
          ]
        },
        {
          "output_type": "execute_result",
          "data": {
            "text/plain": [
              "<keras.callbacks.History at 0x7ff8f02cbd10>"
            ]
          },
          "metadata": {},
          "execution_count": 59
        }
      ]
    },
    {
      "cell_type": "code",
      "source": [
        "model_1.fit([X_train_tweets,X_train_tweets,train_len],train_y,epochs=5, verbose=1, batch_size=1556,validation_data=([X_test_tweets,X_test_tweets,test_len],test_y))"
      ],
      "metadata": {
        "colab": {
          "base_uri": "https://localhost:8080/"
        },
        "id": "Ckj_UB9OIrCA",
        "outputId": "7931db58-7686-4e31-ff67-c37c9c4e10c3"
      },
      "execution_count": null,
      "outputs": [
        {
          "output_type": "stream",
          "name": "stdout",
          "text": [
            "Epoch 1/5\n",
            "86/86 [==============================] - 178s 2s/step - loss: 0.4683 - accuracy: 0.7572 - val_loss: 0.4233 - val_accuracy: 0.7841\n",
            "Epoch 2/5\n",
            "86/86 [==============================] - 177s 2s/step - loss: 0.4660 - accuracy: 0.7587 - val_loss: 0.4206 - val_accuracy: 0.7891\n",
            "Epoch 3/5\n",
            "47/86 [===============>..............] - ETA: 1:14 - loss: 0.4645 - accuracy: 0.7601"
          ]
        }
      ]
    },
    {
      "cell_type": "markdown",
      "source": [
        "#### This model performs better than BERT, but still not the best performing model, architecture is big and complex enough, we can find a better alternative"
      ],
      "metadata": {
        "id": "DlVsfvQq4MAu"
      }
    },
    {
      "cell_type": "markdown",
      "source": [
        "# RoBERTa\n",
        "### Robustly Optimised BERT pre-training Approach"
      ],
      "metadata": {
        "id": "XTJKOXWGsiHw"
      }
    },
    {
      "cell_type": "markdown",
      "source": [
        "#### RoBERTa is better than BERT in terms of generalising,and performance, since it was trained on large amount of data for longer time"
      ],
      "metadata": {
        "id": "uQIzTL005GuK"
      }
    },
    {
      "cell_type": "code",
      "source": [
        "pip install tokenizers"
      ],
      "metadata": {
        "id": "3N01oryl0kgu"
      },
      "execution_count": null,
      "outputs": []
    },
    {
      "cell_type": "code",
      "source": [
        "pip install transformers"
      ],
      "metadata": {
        "id": "hQQnrXJ30oIH"
      },
      "execution_count": null,
      "outputs": []
    },
    {
      "cell_type": "code",
      "source": [
        "import tensorflow as tf\n",
        "import tensorflow.keras.backend as K\n",
        "import tokenizers\n",
        "from transformers import RobertaTokenizer, TFRobertaModel\n",
        "\n",
        "from collections import Counter\n",
        "\n",
        "import warnings\n",
        "warnings.filterwarnings(\"ignore\")"
      ],
      "metadata": {
        "id": "7xezIDUSoSie"
      },
      "execution_count": 7,
      "outputs": []
    },
    {
      "cell_type": "code",
      "source": [
        "MODEL_NAME = 'roberta-base'\n",
        "MAX_LEN = 50"
      ],
      "metadata": {
        "id": "A8A85mYNs3lt"
      },
      "execution_count": 8,
      "outputs": []
    },
    {
      "cell_type": "code",
      "source": [
        "X_data = df[['clean_text']].to_numpy().reshape(-1)\n",
        "y_data = df[['target']].to_numpy().reshape(-1)"
      ],
      "metadata": {
        "id": "Hmz3ceXuuARJ"
      },
      "execution_count": 9,
      "outputs": []
    },
    {
      "cell_type": "code",
      "source": [
        "def roberta_encode(texts, tokenizer):\n",
        "    ct = len(texts)\n",
        "    input_ids = np.ones((ct, MAX_LEN), dtype='int32')\n",
        "    attention_mask = np.zeros((ct, MAX_LEN), dtype='int32')\n",
        "    token_type_ids = np.zeros((ct, MAX_LEN), dtype='int32') # Not used in text classification\n",
        "\n",
        "    for k, text in enumerate(texts):\n",
        "        # Tokenize\n",
        "        tok_text = tokenizer.tokenize(text)\n",
        "        \n",
        "        # Truncate and convert tokens to numerical IDs\n",
        "        enc_text = tokenizer.convert_tokens_to_ids(tok_text[:(MAX_LEN-2)])\n",
        "        \n",
        "        input_length = len(enc_text) + 2\n",
        "        input_length = input_length if input_length < MAX_LEN else MAX_LEN\n",
        "        \n",
        "        # Add tokens [CLS] and [SEP] at the beginning and the end\n",
        "        input_ids[k,:input_length] = np.asarray([0] + enc_text + [2], dtype='int32')\n",
        "        \n",
        "        # Set to 1s in the attention input\n",
        "        attention_mask[k,:input_length] = 1\n",
        "\n",
        "    return {\n",
        "        'input_word_ids': input_ids,\n",
        "        'input_mask': attention_mask,\n",
        "        'input_type_ids': token_type_ids\n",
        "    }"
      ],
      "metadata": {
        "id": "_RM5H70EuIZt"
      },
      "execution_count": 10,
      "outputs": []
    },
    {
      "cell_type": "code",
      "source": [
        "tokenizer = RobertaTokenizer.from_pretrained(MODEL_NAME)"
      ],
      "metadata": {
        "colab": {
          "base_uri": "https://localhost:8080/",
          "height": 144,
          "referenced_widgets": [
            "980dbc2f7538410bbe5915766ab8ab1a",
            "d79c50cfe221492db4e9501bdbaa0c2c",
            "51d90cb4f5fd4d22a1e80364a6f3a241",
            "b8b5fc431bd54f98bf710a93af5d4108",
            "8a2c28d264b04f039d3c3efe2ef83719",
            "1a3c1346389e4176b1d0f88f2f6134b2",
            "1fdf8d43bae04e0190f0594054874150",
            "0178e2fa3ae84d7693079e89f1e5161d",
            "785f7a4ad3c84de9974831e894094166",
            "7d4f0c27925849419c09e88eb93324bb",
            "2de0b51be0dd4120826dd685a2d7ba04",
            "1415fd23fe5249348ee053c81010f495",
            "eeccf3770cb74966ba77bd362cea12b6",
            "b1cb6330ecc140a38f7ae2e82ba12eea",
            "265fcc121c414650bc954e39b85e5bcd",
            "8f50b610640c455dbe7d50ba3e662764",
            "bb3edc9557f24517858afd0889499825",
            "e70cc27019a14483b49cde63d0b8de27",
            "aec96b66edb74526bda35bb1aa4a7d83",
            "89ba3db0c3c3435fb05647d766d0abe5",
            "8f877b9ec2f74669ae40ee48143fb0f4",
            "d0f8ad8866364db79077e760a7bacdf4",
            "e523fabae2de47a89dc21b385b6b9d4e",
            "7cc4ab306caf4827ac3460d9410fcb93",
            "5394a8405509432daecf1e5c1f80525d",
            "e84d0d9b0c69446c8ef3804a081d944f",
            "67e2e9be106c4a21b585ede398c49ed0",
            "8b4342ce100e482fabcc778a41a6ae08",
            "036fcac9a2bf47f8a3bb143176dfe526",
            "5ac1a43f21514b23af15811a53f34e7b",
            "be0706316fe94c3982eeed3b6ba98886",
            "1b452d746fa541d4878f67bd1be90327",
            "c964c54106bc4fcd8a50c599dec09751",
            "4c0b763330fb4fd78298bff35536b58f",
            "7acfd25674244242ab72536b168c627a",
            "90fa974faf7446399bce100f792de7dc",
            "1e21cf57330b4d6b9346e849919a66ff",
            "e3b60b33fada48f9975302516b8aa6d5",
            "680e282328a7493cb753ae024056653d",
            "8547131f94a04145921be839804d79f2",
            "c7de8d35f0ff4d6eaf097f031dbe2d89",
            "f195d080a4a54ed4abcb059f6278a4f8",
            "60fbf1067c4441dcbaa37f747775b57c",
            "fe601ab4b0dd4e129820e9d8fc4d5fd5"
          ]
        },
        "id": "tc0_Tr00vKkI",
        "outputId": "31f87bfd-2455-4dd0-cb96-e7b0651e3171"
      },
      "execution_count": 11,
      "outputs": [
        {
          "output_type": "display_data",
          "data": {
            "application/vnd.jupyter.widget-view+json": {
              "model_id": "980dbc2f7538410bbe5915766ab8ab1a",
              "version_minor": 0,
              "version_major": 2
            },
            "text/plain": [
              "Downloading:   0%|          | 0.00/878k [00:00<?, ?B/s]"
            ]
          },
          "metadata": {}
        },
        {
          "output_type": "display_data",
          "data": {
            "application/vnd.jupyter.widget-view+json": {
              "model_id": "1415fd23fe5249348ee053c81010f495",
              "version_minor": 0,
              "version_major": 2
            },
            "text/plain": [
              "Downloading:   0%|          | 0.00/446k [00:00<?, ?B/s]"
            ]
          },
          "metadata": {}
        },
        {
          "output_type": "display_data",
          "data": {
            "application/vnd.jupyter.widget-view+json": {
              "model_id": "e523fabae2de47a89dc21b385b6b9d4e",
              "version_minor": 0,
              "version_major": 2
            },
            "text/plain": [
              "Downloading:   0%|          | 0.00/1.29M [00:00<?, ?B/s]"
            ]
          },
          "metadata": {}
        },
        {
          "output_type": "display_data",
          "data": {
            "application/vnd.jupyter.widget-view+json": {
              "model_id": "4c0b763330fb4fd78298bff35536b58f",
              "version_minor": 0,
              "version_major": 2
            },
            "text/plain": [
              "Downloading:   0%|          | 0.00/481 [00:00<?, ?B/s]"
            ]
          },
          "metadata": {}
        }
      ]
    },
    {
      "cell_type": "code",
      "source": [
        "X_train, X_test, Y_train, Y_test = train_test_split(X_data, y_data, test_size=0.2, random_state=777)"
      ],
      "metadata": {
        "id": "BSrjlIOhvLEY"
      },
      "execution_count": 21,
      "outputs": []
    },
    {
      "cell_type": "code",
      "source": [
        "X_train = roberta_encode(X_train, tokenizer)\n",
        "X_test = roberta_encode(X_test, tokenizer)\n"
      ],
      "metadata": {
        "id": "J56DOQRPvilM"
      },
      "execution_count": 26,
      "outputs": []
    },
    {
      "cell_type": "code",
      "source": [
        "        input_word_ids = tf.keras.Input(shape=(MAX_LEN,), dtype=tf.int32, name='input_word_ids')\n",
        "        input_mask = tf.keras.Input(shape=(MAX_LEN,), dtype=tf.int32, name='input_mask')\n",
        "        input_type_ids = tf.keras.Input(shape=(MAX_LEN,), dtype=tf.int32, name='input_type_ids')\n",
        "\n",
        "        roberta_model = TFRobertaModel.from_pretrained(MODEL_NAME)\n",
        "        x = roberta_model(input_word_ids, attention_mask=input_mask, token_type_ids=input_type_ids)\n",
        "\n",
        "        x = x[0]\n",
        "\n",
        "        x = tf.keras.layers.Dropout(0.1)(x)\n",
        "        x = tf.keras.layers.Flatten()(x)\n",
        "        x = tf.keras.layers.Dense(256, activation='relu')(x)\n",
        "        #x=RandomFourierFeatures(output_dim=4090, scale=10.0, kernel_initializer=\"gaussian\")(x)\n",
        "\n",
        "        x = tf.keras.layers.Dense(3, activation='softmax')(x)\n",
        "\n",
        "        model = tf.keras.Model(inputs=[input_word_ids, input_mask, input_type_ids], outputs=x)\n",
        "        model.compile(optimizer=tf.keras.optimizers.Adam(lr=1e-5),loss='categorical_crossentropy',metrics=['accuracy'])\n",
        "        model.summary()\n"
      ],
      "metadata": {
        "colab": {
          "base_uri": "https://localhost:8080/",
          "height": 825,
          "referenced_widgets": [
            "22a42eb902dd42c8ab72f6e7f38a2421",
            "c3193b0e5f7f4930b3a93b5b43569e41",
            "b3a7aae2fa5b4d69a76d87b5daa40a79",
            "1ce5952f46aa45f1ba8a990749ee3cf5",
            "4a87996d33c34e55a815223d3536eab5",
            "1eedb641608d4e7c82e76a67e35eca98",
            "cce4be0fac00494da075331339a50c25",
            "65dbd7098b014a4c8d8db33f4ed796f9",
            "3ec253e4e34741e98cd2ff055fb1f290",
            "477ab8ba809c4999988444c4dbe09a7a",
            "51885676d7a64e71b05dfae4269b41a4"
          ]
        },
        "id": "rGwPB8uGvmK5",
        "outputId": "606709c6-6a8c-4d85-b26a-a266c1b46052"
      },
      "execution_count": 14,
      "outputs": [
        {
          "output_type": "display_data",
          "data": {
            "application/vnd.jupyter.widget-view+json": {
              "model_id": "22a42eb902dd42c8ab72f6e7f38a2421",
              "version_minor": 0,
              "version_major": 2
            },
            "text/plain": [
              "Downloading:   0%|          | 0.00/627M [00:00<?, ?B/s]"
            ]
          },
          "metadata": {}
        },
        {
          "output_type": "stream",
          "name": "stderr",
          "text": [
            "Some layers from the model checkpoint at roberta-base were not used when initializing TFRobertaModel: ['lm_head']\n",
            "- This IS expected if you are initializing TFRobertaModel from the checkpoint of a model trained on another task or with another architecture (e.g. initializing a BertForSequenceClassification model from a BertForPreTraining model).\n",
            "- This IS NOT expected if you are initializing TFRobertaModel from the checkpoint of a model that you expect to be exactly identical (initializing a BertForSequenceClassification model from a BertForSequenceClassification model).\n",
            "All the layers of TFRobertaModel were initialized from the model checkpoint at roberta-base.\n",
            "If your task is similar to the task the model of the checkpoint was trained on, you can already use TFRobertaModel for predictions without further training.\n"
          ]
        },
        {
          "output_type": "stream",
          "name": "stdout",
          "text": [
            "Model: \"model\"\n",
            "__________________________________________________________________________________________________\n",
            " Layer (type)                   Output Shape         Param #     Connected to                     \n",
            "==================================================================================================\n",
            " input_word_ids (InputLayer)    [(None, 50)]         0           []                               \n",
            "                                                                                                  \n",
            " input_mask (InputLayer)        [(None, 50)]         0           []                               \n",
            "                                                                                                  \n",
            " input_type_ids (InputLayer)    [(None, 50)]         0           []                               \n",
            "                                                                                                  \n",
            " tf_roberta_model (TFRobertaMod  TFBaseModelOutputWi  124645632  ['input_word_ids[0][0]',         \n",
            " el)                            thPoolingAndCrossAt               'input_mask[0][0]',             \n",
            "                                tentions(last_hidde               'input_type_ids[0][0]']         \n",
            "                                n_state=(None, 50,                                                \n",
            "                                768),                                                             \n",
            "                                 pooler_output=(Non                                               \n",
            "                                e, 768),                                                          \n",
            "                                 past_key_values=No                                               \n",
            "                                ne, hidden_states=N                                               \n",
            "                                one, attentions=Non                                               \n",
            "                                e, cross_attentions                                               \n",
            "                                =None)                                                            \n",
            "                                                                                                  \n",
            " dropout_37 (Dropout)           (None, 50, 768)      0           ['tf_roberta_model[0][0]']       \n",
            "                                                                                                  \n",
            " flatten (Flatten)              (None, 38400)        0           ['dropout_37[0][0]']             \n",
            "                                                                                                  \n",
            " dense (Dense)                  (None, 256)          9830656     ['flatten[0][0]']                \n",
            "                                                                                                  \n",
            " dense_1 (Dense)                (None, 3)            771         ['dense[0][0]']                  \n",
            "                                                                                                  \n",
            "==================================================================================================\n",
            "Total params: 134,477,059\n",
            "Trainable params: 134,477,059\n",
            "Non-trainable params: 0\n",
            "__________________________________________________________________________________________________\n"
          ]
        }
      ]
    },
    {
      "cell_type": "code",
      "source": [
        "y_train=OneHotEncoder().fit_transform(y_train.reshape(-1,1)).todense()\n",
        "y_test=OneHotEncoder().fit_transform(y_test.reshape(-1,1)).todense()"
      ],
      "metadata": {
        "id": "Szfwymtfy51h"
      },
      "execution_count": 23,
      "outputs": []
    },
    {
      "cell_type": "code",
      "source": [
        "    history = model.fit(X_train,\n",
        "                        y_train,\n",
        "                        epochs=3,\n",
        "                        batch_size=120,\n",
        "                        verbose=1,\n",
        "                        validation_data=(X_test, y_test))"
      ],
      "metadata": {
        "colab": {
          "base_uri": "https://localhost:8080/"
        },
        "id": "Wtk_Fm2MyB_-",
        "outputId": "aea97d27-2975-452c-92ff-9db7b5bb089d"
      },
      "execution_count": null,
      "outputs": [
        {
          "output_type": "stream",
          "name": "stdout",
          "text": [
            "Epoch 1/3\n",
            "1104/1104 [==============================] - 2571s 2s/step - loss: 0.2924 - accuracy: 0.8722 - val_loss: 0.2625 - val_accuracy: 0.8878\n",
            "Epoch 2/3\n",
            "1104/1104 [==============================] - 2536s 2s/step - loss: 0.2365 - accuracy: 0.8995 - val_loss: 0.2445 - val_accuracy: 0.8958\n",
            "Epoch 3/3\n",
            "1104/1104 [==============================] - 2524s 2s/step - loss: 0.2070 - accuracy: 0.9130 - val_loss: 0.2458 - val_accuracy: 0.8980\n"
          ]
        }
      ]
    },
    {
      "cell_type": "code",
      "source": [
        "model.save_weights('/content/drive/MyDrive/roberta.h5')"
      ],
      "metadata": {
        "id": "noS4vSBP4kJr"
      },
      "execution_count": null,
      "outputs": []
    },
    {
      "cell_type": "code",
      "source": [
        "model.load_weights('/content/drive/MyDrive/roberta.h5')"
      ],
      "metadata": {
        "id": "jIkp6inzeGgV"
      },
      "execution_count": 18,
      "outputs": []
    },
    {
      "cell_type": "code",
      "source": [
        "model.evaluate(X_test,y_test)"
      ],
      "metadata": {
        "colab": {
          "base_uri": "https://localhost:8080/"
        },
        "id": "FBZtH2uQtfay",
        "outputId": "102d514a-0c75-4a16-f0f9-9248e92efdd2"
      },
      "execution_count": 19,
      "outputs": [
        {
          "output_type": "stream",
          "name": "stdout",
          "text": [
            "1035/1035 [==============================] - 239s 221ms/step - loss: 0.2458 - accuracy: 0.8980\n"
          ]
        },
        {
          "output_type": "execute_result",
          "data": {
            "text/plain": [
              "[0.24579210579395294, 0.8980281949043274]"
            ]
          },
          "metadata": {},
          "execution_count": 19
        }
      ]
    },
    {
      "cell_type": "code",
      "source": [
        "pred=model.predict(X_test)\n",
        "pred=[np.argmax(i) for i in pred]\n",
        "p=[]\n",
        "for i in pred:\n",
        "    if i==0:\n",
        "        p.append('Neg')\n",
        "    elif i==1:\n",
        "        p.append('Neu')\n",
        "    elif i==2:\n",
        "        p.append('Pos')\n",
        "accuracy_score(Y_test,p)"
      ],
      "metadata": {
        "colab": {
          "base_uri": "https://localhost:8080/"
        },
        "id": "FmK6qT4stqbv",
        "outputId": "9623fbad-7369-414a-975c-3799a2300af8"
      },
      "execution_count": 27,
      "outputs": [
        {
          "output_type": "execute_result",
          "data": {
            "text/plain": [
              "0.8980282030377148"
            ]
          },
          "metadata": {},
          "execution_count": 27
        }
      ]
    },
    {
      "cell_type": "code",
      "source": [
        "f1_score(Y_test,p,average='macro')"
      ],
      "metadata": {
        "colab": {
          "base_uri": "https://localhost:8080/"
        },
        "id": "RuiFewJVwaKF",
        "outputId": "16b3ed40-2cb8-4e33-903a-60d36d9a9890"
      },
      "execution_count": 30,
      "outputs": [
        {
          "output_type": "execute_result",
          "data": {
            "text/plain": [
              "0.8983731425164868"
            ]
          },
          "metadata": {},
          "execution_count": 30
        }
      ]
    },
    {
      "cell_type": "code",
      "source": [
        "plot_confusion_matrix(Y_test,p)"
      ],
      "metadata": {
        "colab": {
          "base_uri": "https://localhost:8080/",
          "height": 314
        },
        "id": "2MggQsjFwnKo",
        "outputId": "271e6e17-359b-42c4-9a32-d24bdb9262ad"
      },
      "execution_count": 32,
      "outputs": [
        {
          "output_type": "display_data",
          "data": {
            "image/png": "[encoded data removed]",
            "text/plain": [
              "<Figure size 1440x288 with 6 Axes>"
            ]
          },
          "metadata": {
            "needs_background": "light"
          }
        }
      ]
    },
    {
      "cell_type": "markdown",
      "source": [
        "#### Best Performing model so far with 89.8% validation accuracy and f1 score, it performed excellently for neutral class , 0.99 precision and recall, almost 1950 positive points were predicted as negative and 1332 negative points predicted as positive"
      ],
      "metadata": {
        "id": "s-A6vMP95beu"
      }
    },
    {
      "cell_type": "code",
      "source": [
        ""
      ],
      "metadata": {
        "id": "CPXxbP4qyqH6"
      },
      "execution_count": null,
      "outputs": []
    }
  ],
  "metadata": {
    "accelerator": "GPU",
    "colab": {
      "name": "Vectorization And Modeling on tweet data.ipynb",
      "provenance": [],
      "collapsed_sections": [
        "aJHkH_wr1u4l",
        "TxO1K4zayrMp",
        "TOVQU_tyRpIZ",
        "QlHNgMMIz8Xs",
        "on7dz5D2X7D-",
        "UQXXfr6K0-Zb",
        "dVom_RBlFQCO",
        "WikMD_5n1qG4",
        "M5GIRppmSfVK",
        "dYsMWbkuEw0X"
      ]
    },
    "kernelspec": {
      "display_name": "Python 3",
      "name": "python3"
    },
    "language_info": {
      "name": "python"
    },
    "widgets": {
      "application/vnd.jupyter.widget-state+json": {
        "048974c7aa1c4bf299c793af9b6b95ac": {
          "model_module": "@jupyter-widgets/controls",
          "model_module_version": "1.5.0",
          "model_name": "ProgressStyleModel",
          "state": {
            "_model_module": "@jupyter-widgets/controls",
            "_model_module_version": "1.5.0",
            "_model_name": "ProgressStyleModel",
            "_view_count": null,
            "_view_module": "@jupyter-widgets/base",
            "_view_module_version": "1.2.0",
            "_view_name": "StyleView",
            "bar_color": null,
            "description_width": ""
          }
        },
        "04f8162125b14b0bb4074f670960c61d": {
          "model_module": "@jupyter-widgets/base",
          "model_module_version": "1.2.0",
          "model_name": "LayoutModel",
          "state": {
            "_model_module": "@jupyter-widgets/base",
            "_model_module_version": "1.2.0",
            "_model_name": "LayoutModel",
            "_view_count": null,
            "_view_module": "@jupyter-widgets/base",
            "_view_module_version": "1.2.0",
            "_view_name": "LayoutView",
            "align_content": null,
            "align_items": null,
            "align_self": null,
            "border": null,
            "bottom": null,
            "display": null,
            "flex": null,
            "flex_flow": null,
            "grid_area": null,
            "grid_auto_columns": null,
            "grid_auto_flow": null,
            "grid_auto_rows": null,
            "grid_column": null,
            "grid_gap": null,
            "grid_row": null,
            "grid_template_areas": null,
            "grid_template_columns": null,
            "grid_template_rows": null,
            "height": null,
            "justify_content": null,
            "justify_items": null,
            "left": null,
            "margin": null,
            "max_height": null,
            "max_width": null,
            "min_height": null,
            "min_width": null,
            "object_fit": null,
            "object_position": null,
            "order": null,
            "overflow": null,
            "overflow_x": null,
            "overflow_y": null,
            "padding": null,
            "right": null,
            "top": null,
            "visibility": null,
            "width": null
          }
        },
        "0ffb4c8e087a435ca341ed358ab4088c": {
          "model_module": "@jupyter-widgets/controls",
          "model_module_version": "1.5.0",
          "model_name": "FloatProgressModel",
          "state": {
            "_dom_classes": [],
            "_model_module": "@jupyter-widgets/controls",
            "_model_module_version": "1.5.0",
            "_model_name": "FloatProgressModel",
            "_view_count": null,
            "_view_module": "@jupyter-widgets/controls",
            "_view_module_version": "1.5.0",
            "_view_name": "ProgressView",
            "bar_style": "success",
            "description": "",
            "description_tooltip": null,
            "layout": "IPY_MODEL_df605f373a4443a0acae3ce863df856c",
            "max": 162969,
            "min": 0,
            "orientation": "horizontal",
            "style": "IPY_MODEL_048974c7aa1c4bf299c793af9b6b95ac",
            "value": 162969
          }
        },
        "120107c2f0de4c65bcd2e86f6f1488f2": {
          "model_module": "@jupyter-widgets/base",
          "model_module_version": "1.2.0",
          "model_name": "LayoutModel",
          "state": {
            "_model_module": "@jupyter-widgets/base",
            "_model_module_version": "1.2.0",
            "_model_name": "LayoutModel",
            "_view_count": null,
            "_view_module": "@jupyter-widgets/base",
            "_view_module_version": "1.2.0",
            "_view_name": "LayoutView",
            "align_content": null,
            "align_items": null,
            "align_self": null,
            "border": null,
            "bottom": null,
            "display": null,
            "flex": null,
            "flex_flow": null,
            "grid_area": null,
            "grid_auto_columns": null,
            "grid_auto_flow": null,
            "grid_auto_rows": null,
            "grid_column": null,
            "grid_gap": null,
            "grid_row": null,
            "grid_template_areas": null,
            "grid_template_columns": null,
            "grid_template_rows": null,
            "height": null,
            "justify_content": null,
            "justify_items": null,
            "left": null,
            "margin": null,
            "max_height": null,
            "max_width": null,
            "min_height": null,
            "min_width": null,
            "object_fit": null,
            "object_position": null,
            "order": null,
            "overflow": null,
            "overflow_x": null,
            "overflow_y": null,
            "padding": null,
            "right": null,
            "top": null,
            "visibility": null,
            "width": null
          }
        },
        "1e47767a03c547be8f8fc2ac63800a8a": {
          "model_module": "@jupyter-widgets/controls",
          "model_module_version": "1.5.0",
          "model_name": "HBoxModel",
          "state": {
            "_dom_classes": [],
            "_model_module": "@jupyter-widgets/controls",
            "_model_module_version": "1.5.0",
            "_model_name": "HBoxModel",
            "_view_count": null,
            "_view_module": "@jupyter-widgets/controls",
            "_view_module_version": "1.5.0",
            "_view_name": "HBoxView",
            "box_style": "",
            "children": [
              "IPY_MODEL_b4317edc25cd4008b92b3bab89b7010e",
              "IPY_MODEL_0ffb4c8e087a435ca341ed358ab4088c",
              "IPY_MODEL_c57b26b35ce940678633733438cb2611"
            ],
            "layout": "IPY_MODEL_da669587a3fd4525966b033b46ffe6a6"
          }
        },
        "275aac40f5a64aae8c0507fdc06dc141": {
          "model_module": "@jupyter-widgets/controls",
          "model_module_version": "1.5.0",
          "model_name": "FloatProgressModel",
          "state": {
            "_dom_classes": [],
            "_model_module": "@jupyter-widgets/controls",
            "_model_module_version": "1.5.0",
            "_model_name": "FloatProgressModel",
            "_view_count": null,
            "_view_module": "@jupyter-widgets/controls",
            "_view_module_version": "1.5.0",
            "_view_name": "ProgressView",
            "bar_style": "success",
            "description": "",
            "description_tooltip": null,
            "layout": "IPY_MODEL_04f8162125b14b0bb4074f670960c61d",
            "max": 162969,
            "min": 0,
            "orientation": "horizontal",
            "style": "IPY_MODEL_892ef8bd5d9541f4acdffe8ff9852876",
            "value": 162969
          }
        },
        "5b84bb69ed934f618781b109baf832a9": {
          "model_module": "@jupyter-widgets/controls",
          "model_module_version": "1.5.0",
          "model_name": "HTMLModel",
          "state": {
            "_dom_classes": [],
            "_model_module": "@jupyter-widgets/controls",
            "_model_module_version": "1.5.0",
            "_model_name": "HTMLModel",
            "_view_count": null,
            "_view_module": "@jupyter-widgets/controls",
            "_view_module_version": "1.5.0",
            "_view_name": "HTMLView",
            "description": "",
            "description_tooltip": null,
            "layout": "IPY_MODEL_120107c2f0de4c65bcd2e86f6f1488f2",
            "placeholder": "​",
            "style": "IPY_MODEL_80d92088faef4cbeb9ef3fb0e423dc14",
            "value": "100%"
          }
        },
        "6487669807d54a76bdc4df97216eb054": {
          "model_module": "@jupyter-widgets/controls",
          "model_module_version": "1.5.0",
          "model_name": "DescriptionStyleModel",
          "state": {
            "_model_module": "@jupyter-widgets/controls",
            "_model_module_version": "1.5.0",
            "_model_name": "DescriptionStyleModel",
            "_view_count": null,
            "_view_module": "@jupyter-widgets/base",
            "_view_module_version": "1.2.0",
            "_view_name": "StyleView",
            "description_width": ""
          }
        },
        "76bbdc73e7f742ae805582cc59292fbd": {
          "model_module": "@jupyter-widgets/base",
          "model_module_version": "1.2.0",
          "model_name": "LayoutModel",
          "state": {
            "_model_module": "@jupyter-widgets/base",
            "_model_module_version": "1.2.0",
            "_model_name": "LayoutModel",
            "_view_count": null,
            "_view_module": "@jupyter-widgets/base",
            "_view_module_version": "1.2.0",
            "_view_name": "LayoutView",
            "align_content": null,
            "align_items": null,
            "align_self": null,
            "border": null,
            "bottom": null,
            "display": null,
            "flex": null,
            "flex_flow": null,
            "grid_area": null,
            "grid_auto_columns": null,
            "grid_auto_flow": null,
            "grid_auto_rows": null,
            "grid_column": null,
            "grid_gap": null,
            "grid_row": null,
            "grid_template_areas": null,
            "grid_template_columns": null,
            "grid_template_rows": null,
            "height": null,
            "justify_content": null,
            "justify_items": null,
            "left": null,
            "margin": null,
            "max_height": null,
            "max_width": null,
            "min_height": null,
            "min_width": null,
            "object_fit": null,
            "object_position": null,
            "order": null,
            "overflow": null,
            "overflow_x": null,
            "overflow_y": null,
            "padding": null,
            "right": null,
            "top": null,
            "visibility": null,
            "width": null
          }
        },
        "80d92088faef4cbeb9ef3fb0e423dc14": {
          "model_module": "@jupyter-widgets/controls",
          "model_module_version": "1.5.0",
          "model_name": "DescriptionStyleModel",
          "state": {
            "_model_module": "@jupyter-widgets/controls",
            "_model_module_version": "1.5.0",
            "_model_name": "DescriptionStyleModel",
            "_view_count": null,
            "_view_module": "@jupyter-widgets/base",
            "_view_module_version": "1.2.0",
            "_view_name": "StyleView",
            "description_width": ""
          }
        },
        "892ef8bd5d9541f4acdffe8ff9852876": {
          "model_module": "@jupyter-widgets/controls",
          "model_module_version": "1.5.0",
          "model_name": "ProgressStyleModel",
          "state": {
            "_model_module": "@jupyter-widgets/controls",
            "_model_module_version": "1.5.0",
            "_model_name": "ProgressStyleModel",
            "_view_count": null,
            "_view_module": "@jupyter-widgets/base",
            "_view_module_version": "1.2.0",
            "_view_name": "StyleView",
            "bar_color": null,
            "description_width": ""
          }
        },
        "99bad6a8f3404129aee7f5fe5a6f75f4": {
          "model_module": "@jupyter-widgets/controls",
          "model_module_version": "1.5.0",
          "model_name": "HBoxModel",
          "state": {
            "_dom_classes": [],
            "_model_module": "@jupyter-widgets/controls",
            "_model_module_version": "1.5.0",
            "_model_name": "HBoxModel",
            "_view_count": null,
            "_view_module": "@jupyter-widgets/controls",
            "_view_module_version": "1.5.0",
            "_view_name": "HBoxView",
            "box_style": "",
            "children": [
              "IPY_MODEL_5b84bb69ed934f618781b109baf832a9",
              "IPY_MODEL_275aac40f5a64aae8c0507fdc06dc141",
              "IPY_MODEL_eb8d284919724b9888ff6781380d3769"
            ],
            "layout": "IPY_MODEL_af0d5e20ba49459a80831c1c19aeeccf"
          }
        },
        "af0d5e20ba49459a80831c1c19aeeccf": {
          "model_module": "@jupyter-widgets/base",
          "model_module_version": "1.2.0",
          "model_name": "LayoutModel",
          "state": {
            "_model_module": "@jupyter-widgets/base",
            "_model_module_version": "1.2.0",
            "_model_name": "LayoutModel",
            "_view_count": null,
            "_view_module": "@jupyter-widgets/base",
            "_view_module_version": "1.2.0",
            "_view_name": "LayoutView",
            "align_content": null,
            "align_items": null,
            "align_self": null,
            "border": null,
            "bottom": null,
            "display": null,
            "flex": null,
            "flex_flow": null,
            "grid_area": null,
            "grid_auto_columns": null,
            "grid_auto_flow": null,
            "grid_auto_rows": null,
            "grid_column": null,
            "grid_gap": null,
            "grid_row": null,
            "grid_template_areas": null,
            "grid_template_columns": null,
            "grid_template_rows": null,
            "height": null,
            "justify_content": null,
            "justify_items": null,
            "left": null,
            "margin": null,
            "max_height": null,
            "max_width": null,
            "min_height": null,
            "min_width": null,
            "object_fit": null,
            "object_position": null,
            "order": null,
            "overflow": null,
            "overflow_x": null,
            "overflow_y": null,
            "padding": null,
            "right": null,
            "top": null,
            "visibility": null,
            "width": null
          }
        },
        "b4317edc25cd4008b92b3bab89b7010e": {
          "model_module": "@jupyter-widgets/controls",
          "model_module_version": "1.5.0",
          "model_name": "HTMLModel",
          "state": {
            "_dom_classes": [],
            "_model_module": "@jupyter-widgets/controls",
            "_model_module_version": "1.5.0",
            "_model_name": "HTMLModel",
            "_view_count": null,
            "_view_module": "@jupyter-widgets/controls",
            "_view_module_version": "1.5.0",
            "_view_name": "HTMLView",
            "description": "",
            "description_tooltip": null,
            "layout": "IPY_MODEL_e7afa0e464774b4bb3a50cd80b0b93b0",
            "placeholder": "​",
            "style": "IPY_MODEL_c280c73378b24e3390ceb3b6d7d80bd4",
            "value": "100%"
          }
        },
        "b974383b2d494545818f93b045fc8576": {
          "model_module": "@jupyter-widgets/base",
          "model_module_version": "1.2.0",
          "model_name": "LayoutModel",
          "state": {
            "_model_module": "@jupyter-widgets/base",
            "_model_module_version": "1.2.0",
            "_model_name": "LayoutModel",
            "_view_count": null,
            "_view_module": "@jupyter-widgets/base",
            "_view_module_version": "1.2.0",
            "_view_name": "LayoutView",
            "align_content": null,
            "align_items": null,
            "align_self": null,
            "border": null,
            "bottom": null,
            "display": null,
            "flex": null,
            "flex_flow": null,
            "grid_area": null,
            "grid_auto_columns": null,
            "grid_auto_flow": null,
            "grid_auto_rows": null,
            "grid_column": null,
            "grid_gap": null,
            "grid_row": null,
            "grid_template_areas": null,
            "grid_template_columns": null,
            "grid_template_rows": null,
            "height": null,
            "justify_content": null,
            "justify_items": null,
            "left": null,
            "margin": null,
            "max_height": null,
            "max_width": null,
            "min_height": null,
            "min_width": null,
            "object_fit": null,
            "object_position": null,
            "order": null,
            "overflow": null,
            "overflow_x": null,
            "overflow_y": null,
            "padding": null,
            "right": null,
            "top": null,
            "visibility": null,
            "width": null
          }
        },
        "c280c73378b24e3390ceb3b6d7d80bd4": {
          "model_module": "@jupyter-widgets/controls",
          "model_module_version": "1.5.0",
          "model_name": "DescriptionStyleModel",
          "state": {
            "_model_module": "@jupyter-widgets/controls",
            "_model_module_version": "1.5.0",
            "_model_name": "DescriptionStyleModel",
            "_view_count": null,
            "_view_module": "@jupyter-widgets/base",
            "_view_module_version": "1.2.0",
            "_view_name": "StyleView",
            "description_width": ""
          }
        },
        "c57b26b35ce940678633733438cb2611": {
          "model_module": "@jupyter-widgets/controls",
          "model_module_version": "1.5.0",
          "model_name": "HTMLModel",
          "state": {
            "_dom_classes": [],
            "_model_module": "@jupyter-widgets/controls",
            "_model_module_version": "1.5.0",
            "_model_name": "HTMLModel",
            "_view_count": null,
            "_view_module": "@jupyter-widgets/controls",
            "_view_module_version": "1.5.0",
            "_view_name": "HTMLView",
            "description": "",
            "description_tooltip": null,
            "layout": "IPY_MODEL_76bbdc73e7f742ae805582cc59292fbd",
            "placeholder": "​",
            "style": "IPY_MODEL_6487669807d54a76bdc4df97216eb054",
            "value": " 162969/162969 [00:30&lt;00:00, 5541.51it/s]"
          }
        },
        "da669587a3fd4525966b033b46ffe6a6": {
          "model_module": "@jupyter-widgets/base",
          "model_module_version": "1.2.0",
          "model_name": "LayoutModel",
          "state": {
            "_model_module": "@jupyter-widgets/base",
            "_model_module_version": "1.2.0",
            "_model_name": "LayoutModel",
            "_view_count": null,
            "_view_module": "@jupyter-widgets/base",
            "_view_module_version": "1.2.0",
            "_view_name": "LayoutView",
            "align_content": null,
            "align_items": null,
            "align_self": null,
            "border": null,
            "bottom": null,
            "display": null,
            "flex": null,
            "flex_flow": null,
            "grid_area": null,
            "grid_auto_columns": null,
            "grid_auto_flow": null,
            "grid_auto_rows": null,
            "grid_column": null,
            "grid_gap": null,
            "grid_row": null,
            "grid_template_areas": null,
            "grid_template_columns": null,
            "grid_template_rows": null,
            "height": null,
            "justify_content": null,
            "justify_items": null,
            "left": null,
            "margin": null,
            "max_height": null,
            "max_width": null,
            "min_height": null,
            "min_width": null,
            "object_fit": null,
            "object_position": null,
            "order": null,
            "overflow": null,
            "overflow_x": null,
            "overflow_y": null,
            "padding": null,
            "right": null,
            "top": null,
            "visibility": null,
            "width": null
          }
        },
        "df605f373a4443a0acae3ce863df856c": {
          "model_module": "@jupyter-widgets/base",
          "model_module_version": "1.2.0",
          "model_name": "LayoutModel",
          "state": {
            "_model_module": "@jupyter-widgets/base",
            "_model_module_version": "1.2.0",
            "_model_name": "LayoutModel",
            "_view_count": null,
            "_view_module": "@jupyter-widgets/base",
            "_view_module_version": "1.2.0",
            "_view_name": "LayoutView",
            "align_content": null,
            "align_items": null,
            "align_self": null,
            "border": null,
            "bottom": null,
            "display": null,
            "flex": null,
            "flex_flow": null,
            "grid_area": null,
            "grid_auto_columns": null,
            "grid_auto_flow": null,
            "grid_auto_rows": null,
            "grid_column": null,
            "grid_gap": null,
            "grid_row": null,
            "grid_template_areas": null,
            "grid_template_columns": null,
            "grid_template_rows": null,
            "height": null,
            "justify_content": null,
            "justify_items": null,
            "left": null,
            "margin": null,
            "max_height": null,
            "max_width": null,
            "min_height": null,
            "min_width": null,
            "object_fit": null,
            "object_position": null,
            "order": null,
            "overflow": null,
            "overflow_x": null,
            "overflow_y": null,
            "padding": null,
            "right": null,
            "top": null,
            "visibility": null,
            "width": null
          }
        },
        "e7afa0e464774b4bb3a50cd80b0b93b0": {
          "model_module": "@jupyter-widgets/base",
          "model_module_version": "1.2.0",
          "model_name": "LayoutModel",
          "state": {
            "_model_module": "@jupyter-widgets/base",
            "_model_module_version": "1.2.0",
            "_model_name": "LayoutModel",
            "_view_count": null,
            "_view_module": "@jupyter-widgets/base",
            "_view_module_version": "1.2.0",
            "_view_name": "LayoutView",
            "align_content": null,
            "align_items": null,
            "align_self": null,
            "border": null,
            "bottom": null,
            "display": null,
            "flex": null,
            "flex_flow": null,
            "grid_area": null,
            "grid_auto_columns": null,
            "grid_auto_flow": null,
            "grid_auto_rows": null,
            "grid_column": null,
            "grid_gap": null,
            "grid_row": null,
            "grid_template_areas": null,
            "grid_template_columns": null,
            "grid_template_rows": null,
            "height": null,
            "justify_content": null,
            "justify_items": null,
            "left": null,
            "margin": null,
            "max_height": null,
            "max_width": null,
            "min_height": null,
            "min_width": null,
            "object_fit": null,
            "object_position": null,
            "order": null,
            "overflow": null,
            "overflow_x": null,
            "overflow_y": null,
            "padding": null,
            "right": null,
            "top": null,
            "visibility": null,
            "width": null
          }
        },
        "eb8d284919724b9888ff6781380d3769": {
          "model_module": "@jupyter-widgets/controls",
          "model_module_version": "1.5.0",
          "model_name": "HTMLModel",
          "state": {
            "_dom_classes": [],
            "_model_module": "@jupyter-widgets/controls",
            "_model_module_version": "1.5.0",
            "_model_name": "HTMLModel",
            "_view_count": null,
            "_view_module": "@jupyter-widgets/controls",
            "_view_module_version": "1.5.0",
            "_view_name": "HTMLView",
            "description": "",
            "description_tooltip": null,
            "layout": "IPY_MODEL_b974383b2d494545818f93b045fc8576",
            "placeholder": "​",
            "style": "IPY_MODEL_f9c075ee1e264ff1990eb40b441a908e",
            "value": " 162969/162969 [00:08&lt;00:00, 21703.76it/s]"
          }
        },
        "f9c075ee1e264ff1990eb40b441a908e": {
          "model_module": "@jupyter-widgets/controls",
          "model_module_version": "1.5.0",
          "model_name": "DescriptionStyleModel",
          "state": {
            "_model_module": "@jupyter-widgets/controls",
            "_model_module_version": "1.5.0",
            "_model_name": "DescriptionStyleModel",
            "_view_count": null,
            "_view_module": "@jupyter-widgets/base",
            "_view_module_version": "1.2.0",
            "_view_name": "StyleView",
            "description_width": ""
          }
        },
        "980dbc2f7538410bbe5915766ab8ab1a": {
          "model_module": "@jupyter-widgets/controls",
          "model_name": "HBoxModel",
          "model_module_version": "1.5.0",
          "state": {
            "_view_name": "HBoxView",
            "_dom_classes": [],
            "_model_name": "HBoxModel",
            "_view_module": "@jupyter-widgets/controls",
            "_model_module_version": "1.5.0",
            "_view_count": null,
            "_view_module_version": "1.5.0",
            "box_style": "",
            "layout": "IPY_MODEL_d79c50cfe221492db4e9501bdbaa0c2c",
            "_model_module": "@jupyter-widgets/controls",
            "children": [
              "IPY_MODEL_51d90cb4f5fd4d22a1e80364a6f3a241",
              "IPY_MODEL_b8b5fc431bd54f98bf710a93af5d4108",
              "IPY_MODEL_8a2c28d264b04f039d3c3efe2ef83719"
            ]
          }
        },
        "d79c50cfe221492db4e9501bdbaa0c2c": {
          "model_module": "@jupyter-widgets/base",
          "model_name": "LayoutModel",
          "model_module_version": "1.2.0",
          "state": {
            "_view_name": "LayoutView",
            "grid_template_rows": null,
            "right": null,
            "justify_content": null,
            "_view_module": "@jupyter-widgets/base",
            "overflow": null,
            "_model_module_version": "1.2.0",
            "_view_count": null,
            "flex_flow": null,
            "width": null,
            "min_width": null,
            "border": null,
            "align_items": null,
            "bottom": null,
            "_model_module": "@jupyter-widgets/base",
            "top": null,
            "grid_column": null,
            "overflow_y": null,
            "overflow_x": null,
            "grid_auto_flow": null,
            "grid_area": null,
            "grid_template_columns": null,
            "flex": null,
            "_model_name": "LayoutModel",
            "justify_items": null,
            "grid_row": null,
            "max_height": null,
            "align_content": null,
            "visibility": null,
            "align_self": null,
            "height": null,
            "min_height": null,
            "padding": null,
            "grid_auto_rows": null,
            "grid_gap": null,
            "max_width": null,
            "order": null,
            "_view_module_version": "1.2.0",
            "grid_template_areas": null,
            "object_position": null,
            "object_fit": null,
            "grid_auto_columns": null,
            "margin": null,
            "display": null,
            "left": null
          }
        },
        "51d90cb4f5fd4d22a1e80364a6f3a241": {
          "model_module": "@jupyter-widgets/controls",
          "model_name": "HTMLModel",
          "model_module_version": "1.5.0",
          "state": {
            "_view_name": "HTMLView",
            "style": "IPY_MODEL_1a3c1346389e4176b1d0f88f2f6134b2",
            "_dom_classes": [],
            "description": "",
            "_model_name": "HTMLModel",
            "placeholder": "​",
            "_view_module": "@jupyter-widgets/controls",
            "_model_module_version": "1.5.0",
            "value": "Downloading: 100%",
            "_view_count": null,
            "_view_module_version": "1.5.0",
            "description_tooltip": null,
            "_model_module": "@jupyter-widgets/controls",
            "layout": "IPY_MODEL_1fdf8d43bae04e0190f0594054874150"
          }
        },
        "b8b5fc431bd54f98bf710a93af5d4108": {
          "model_module": "@jupyter-widgets/controls",
          "model_name": "FloatProgressModel",
          "model_module_version": "1.5.0",
          "state": {
            "_view_name": "ProgressView",
            "style": "IPY_MODEL_0178e2fa3ae84d7693079e89f1e5161d",
            "_dom_classes": [],
            "description": "",
            "_model_name": "FloatProgressModel",
            "bar_style": "success",
            "max": 898823,
            "_view_module": "@jupyter-widgets/controls",
            "_model_module_version": "1.5.0",
            "value": 898823,
            "_view_count": null,
            "_view_module_version": "1.5.0",
            "orientation": "horizontal",
            "min": 0,
            "description_tooltip": null,
            "_model_module": "@jupyter-widgets/controls",
            "layout": "IPY_MODEL_785f7a4ad3c84de9974831e894094166"
          }
        },
        "8a2c28d264b04f039d3c3efe2ef83719": {
          "model_module": "@jupyter-widgets/controls",
          "model_name": "HTMLModel",
          "model_module_version": "1.5.0",
          "state": {
            "_view_name": "HTMLView",
            "style": "IPY_MODEL_7d4f0c27925849419c09e88eb93324bb",
            "_dom_classes": [],
            "description": "",
            "_model_name": "HTMLModel",
            "placeholder": "​",
            "_view_module": "@jupyter-widgets/controls",
            "_model_module_version": "1.5.0",
            "value": " 878k/878k [00:01&lt;00:00, 1.19MB/s]",
            "_view_count": null,
            "_view_module_version": "1.5.0",
            "description_tooltip": null,
            "_model_module": "@jupyter-widgets/controls",
            "layout": "IPY_MODEL_2de0b51be0dd4120826dd685a2d7ba04"
          }
        },
        "1a3c1346389e4176b1d0f88f2f6134b2": {
          "model_module": "@jupyter-widgets/controls",
          "model_name": "DescriptionStyleModel",
          "model_module_version": "1.5.0",
          "state": {
            "_view_name": "StyleView",
            "_model_name": "DescriptionStyleModel",
            "description_width": "",
            "_view_module": "@jupyter-widgets/base",
            "_model_module_version": "1.5.0",
            "_view_count": null,
            "_view_module_version": "1.2.0",
            "_model_module": "@jupyter-widgets/controls"
          }
        },
        "1fdf8d43bae04e0190f0594054874150": {
          "model_module": "@jupyter-widgets/base",
          "model_name": "LayoutModel",
          "model_module_version": "1.2.0",
          "state": {
            "_view_name": "LayoutView",
            "grid_template_rows": null,
            "right": null,
            "justify_content": null,
            "_view_module": "@jupyter-widgets/base",
            "overflow": null,
            "_model_module_version": "1.2.0",
            "_view_count": null,
            "flex_flow": null,
            "width": null,
            "min_width": null,
            "border": null,
            "align_items": null,
            "bottom": null,
            "_model_module": "@jupyter-widgets/base",
            "top": null,
            "grid_column": null,
            "overflow_y": null,
            "overflow_x": null,
            "grid_auto_flow": null,
            "grid_area": null,
            "grid_template_columns": null,
            "flex": null,
            "_model_name": "LayoutModel",
            "justify_items": null,
            "grid_row": null,
            "max_height": null,
            "align_content": null,
            "visibility": null,
            "align_self": null,
            "height": null,
            "min_height": null,
            "padding": null,
            "grid_auto_rows": null,
            "grid_gap": null,
            "max_width": null,
            "order": null,
            "_view_module_version": "1.2.0",
            "grid_template_areas": null,
            "object_position": null,
            "object_fit": null,
            "grid_auto_columns": null,
            "margin": null,
            "display": null,
            "left": null
          }
        },
        "0178e2fa3ae84d7693079e89f1e5161d": {
          "model_module": "@jupyter-widgets/controls",
          "model_name": "ProgressStyleModel",
          "model_module_version": "1.5.0",
          "state": {
            "_view_name": "StyleView",
            "_model_name": "ProgressStyleModel",
            "description_width": "",
            "_view_module": "@jupyter-widgets/base",
            "_model_module_version": "1.5.0",
            "_view_count": null,
            "_view_module_version": "1.2.0",
            "bar_color": null,
            "_model_module": "@jupyter-widgets/controls"
          }
        },
        "785f7a4ad3c84de9974831e894094166": {
          "model_module": "@jupyter-widgets/base",
          "model_name": "LayoutModel",
          "model_module_version": "1.2.0",
          "state": {
            "_view_name": "LayoutView",
            "grid_template_rows": null,
            "right": null,
            "justify_content": null,
            "_view_module": "@jupyter-widgets/base",
            "overflow": null,
            "_model_module_version": "1.2.0",
            "_view_count": null,
            "flex_flow": null,
            "width": null,
            "min_width": null,
            "border": null,
            "align_items": null,
            "bottom": null,
            "_model_module": "@jupyter-widgets/base",
            "top": null,
            "grid_column": null,
            "overflow_y": null,
            "overflow_x": null,
            "grid_auto_flow": null,
            "grid_area": null,
            "grid_template_columns": null,
            "flex": null,
            "_model_name": "LayoutModel",
            "justify_items": null,
            "grid_row": null,
            "max_height": null,
            "align_content": null,
            "visibility": null,
            "align_self": null,
            "height": null,
            "min_height": null,
            "padding": null,
            "grid_auto_rows": null,
            "grid_gap": null,
            "max_width": null,
            "order": null,
            "_view_module_version": "1.2.0",
            "grid_template_areas": null,
            "object_position": null,
            "object_fit": null,
            "grid_auto_columns": null,
            "margin": null,
            "display": null,
            "left": null
          }
        },
        "7d4f0c27925849419c09e88eb93324bb": {
          "model_module": "@jupyter-widgets/controls",
          "model_name": "DescriptionStyleModel",
          "model_module_version": "1.5.0",
          "state": {
            "_view_name": "StyleView",
            "_model_name": "DescriptionStyleModel",
            "description_width": "",
            "_view_module": "@jupyter-widgets/base",
            "_model_module_version": "1.5.0",
            "_view_count": null,
            "_view_module_version": "1.2.0",
            "_model_module": "@jupyter-widgets/controls"
          }
        },
        "2de0b51be0dd4120826dd685a2d7ba04": {
          "model_module": "@jupyter-widgets/base",
          "model_name": "LayoutModel",
          "model_module_version": "1.2.0",
          "state": {
            "_view_name": "LayoutView",
            "grid_template_rows": null,
            "right": null,
            "justify_content": null,
            "_view_module": "@jupyter-widgets/base",
            "overflow": null,
            "_model_module_version": "1.2.0",
            "_view_count": null,
            "flex_flow": null,
            "width": null,
            "min_width": null,
            "border": null,
            "align_items": null,
            "bottom": null,
            "_model_module": "@jupyter-widgets/base",
            "top": null,
            "grid_column": null,
            "overflow_y": null,
            "overflow_x": null,
            "grid_auto_flow": null,
            "grid_area": null,
            "grid_template_columns": null,
            "flex": null,
            "_model_name": "LayoutModel",
            "justify_items": null,
            "grid_row": null,
            "max_height": null,
            "align_content": null,
            "visibility": null,
            "align_self": null,
            "height": null,
            "min_height": null,
            "padding": null,
            "grid_auto_rows": null,
            "grid_gap": null,
            "max_width": null,
            "order": null,
            "_view_module_version": "1.2.0",
            "grid_template_areas": null,
            "object_position": null,
            "object_fit": null,
            "grid_auto_columns": null,
            "margin": null,
            "display": null,
            "left": null
          }
        },
        "1415fd23fe5249348ee053c81010f495": {
          "model_module": "@jupyter-widgets/controls",
          "model_name": "HBoxModel",
          "model_module_version": "1.5.0",
          "state": {
            "_view_name": "HBoxView",
            "_dom_classes": [],
            "_model_name": "HBoxModel",
            "_view_module": "@jupyter-widgets/controls",
            "_model_module_version": "1.5.0",
            "_view_count": null,
            "_view_module_version": "1.5.0",
            "box_style": "",
            "layout": "IPY_MODEL_eeccf3770cb74966ba77bd362cea12b6",
            "_model_module": "@jupyter-widgets/controls",
            "children": [
              "IPY_MODEL_b1cb6330ecc140a38f7ae2e82ba12eea",
              "IPY_MODEL_265fcc121c414650bc954e39b85e5bcd",
              "IPY_MODEL_8f50b610640c455dbe7d50ba3e662764"
            ]
          }
        },
        "eeccf3770cb74966ba77bd362cea12b6": {
          "model_module": "@jupyter-widgets/base",
          "model_name": "LayoutModel",
          "model_module_version": "1.2.0",
          "state": {
            "_view_name": "LayoutView",
            "grid_template_rows": null,
            "right": null,
            "justify_content": null,
            "_view_module": "@jupyter-widgets/base",
            "overflow": null,
            "_model_module_version": "1.2.0",
            "_view_count": null,
            "flex_flow": null,
            "width": null,
            "min_width": null,
            "border": null,
            "align_items": null,
            "bottom": null,
            "_model_module": "@jupyter-widgets/base",
            "top": null,
            "grid_column": null,
            "overflow_y": null,
            "overflow_x": null,
            "grid_auto_flow": null,
            "grid_area": null,
            "grid_template_columns": null,
            "flex": null,
            "_model_name": "LayoutModel",
            "justify_items": null,
            "grid_row": null,
            "max_height": null,
            "align_content": null,
            "visibility": null,
            "align_self": null,
            "height": null,
            "min_height": null,
            "padding": null,
            "grid_auto_rows": null,
            "grid_gap": null,
            "max_width": null,
            "order": null,
            "_view_module_version": "1.2.0",
            "grid_template_areas": null,
            "object_position": null,
            "object_fit": null,
            "grid_auto_columns": null,
            "margin": null,
            "display": null,
            "left": null
          }
        },
        "b1cb6330ecc140a38f7ae2e82ba12eea": {
          "model_module": "@jupyter-widgets/controls",
          "model_name": "HTMLModel",
          "model_module_version": "1.5.0",
          "state": {
            "_view_name": "HTMLView",
            "style": "IPY_MODEL_bb3edc9557f24517858afd0889499825",
            "_dom_classes": [],
            "description": "",
            "_model_name": "HTMLModel",
            "placeholder": "​",
            "_view_module": "@jupyter-widgets/controls",
            "_model_module_version": "1.5.0",
            "value": "Downloading: 100%",
            "_view_count": null,
            "_view_module_version": "1.5.0",
            "description_tooltip": null,
            "_model_module": "@jupyter-widgets/controls",
            "layout": "IPY_MODEL_e70cc27019a14483b49cde63d0b8de27"
          }
        },
        "265fcc121c414650bc954e39b85e5bcd": {
          "model_module": "@jupyter-widgets/controls",
          "model_name": "FloatProgressModel",
          "model_module_version": "1.5.0",
          "state": {
            "_view_name": "ProgressView",
            "style": "IPY_MODEL_aec96b66edb74526bda35bb1aa4a7d83",
            "_dom_classes": [],
            "description": "",
            "_model_name": "FloatProgressModel",
            "bar_style": "success",
            "max": 456318,
            "_view_module": "@jupyter-widgets/controls",
            "_model_module_version": "1.5.0",
            "value": 456318,
            "_view_count": null,
            "_view_module_version": "1.5.0",
            "orientation": "horizontal",
            "min": 0,
            "description_tooltip": null,
            "_model_module": "@jupyter-widgets/controls",
            "layout": "IPY_MODEL_89ba3db0c3c3435fb05647d766d0abe5"
          }
        },
        "8f50b610640c455dbe7d50ba3e662764": {
          "model_module": "@jupyter-widgets/controls",
          "model_name": "HTMLModel",
          "model_module_version": "1.5.0",
          "state": {
            "_view_name": "HTMLView",
            "style": "IPY_MODEL_8f877b9ec2f74669ae40ee48143fb0f4",
            "_dom_classes": [],
            "description": "",
            "_model_name": "HTMLModel",
            "placeholder": "​",
            "_view_module": "@jupyter-widgets/controls",
            "_model_module_version": "1.5.0",
            "value": " 446k/446k [00:00&lt;00:00, 631kB/s]",
            "_view_count": null,
            "_view_module_version": "1.5.0",
            "description_tooltip": null,
            "_model_module": "@jupyter-widgets/controls",
            "layout": "IPY_MODEL_d0f8ad8866364db79077e760a7bacdf4"
          }
        },
        "bb3edc9557f24517858afd0889499825": {
          "model_module": "@jupyter-widgets/controls",
          "model_name": "DescriptionStyleModel",
          "model_module_version": "1.5.0",
          "state": {
            "_view_name": "StyleView",
            "_model_name": "DescriptionStyleModel",
            "description_width": "",
            "_view_module": "@jupyter-widgets/base",
            "_model_module_version": "1.5.0",
            "_view_count": null,
            "_view_module_version": "1.2.0",
            "_model_module": "@jupyter-widgets/controls"
          }
        },
        "e70cc27019a14483b49cde63d0b8de27": {
          "model_module": "@jupyter-widgets/base",
          "model_name": "LayoutModel",
          "model_module_version": "1.2.0",
          "state": {
            "_view_name": "LayoutView",
            "grid_template_rows": null,
            "right": null,
            "justify_content": null,
            "_view_module": "@jupyter-widgets/base",
            "overflow": null,
            "_model_module_version": "1.2.0",
            "_view_count": null,
            "flex_flow": null,
            "width": null,
            "min_width": null,
            "border": null,
            "align_items": null,
            "bottom": null,
            "_model_module": "@jupyter-widgets/base",
            "top": null,
            "grid_column": null,
            "overflow_y": null,
            "overflow_x": null,
            "grid_auto_flow": null,
            "grid_area": null,
            "grid_template_columns": null,
            "flex": null,
            "_model_name": "LayoutModel",
            "justify_items": null,
            "grid_row": null,
            "max_height": null,
            "align_content": null,
            "visibility": null,
            "align_self": null,
            "height": null,
            "min_height": null,
            "padding": null,
            "grid_auto_rows": null,
            "grid_gap": null,
            "max_width": null,
            "order": null,
            "_view_module_version": "1.2.0",
            "grid_template_areas": null,
            "object_position": null,
            "object_fit": null,
            "grid_auto_columns": null,
            "margin": null,
            "display": null,
            "left": null
          }
        },
        "aec96b66edb74526bda35bb1aa4a7d83": {
          "model_module": "@jupyter-widgets/controls",
          "model_name": "ProgressStyleModel",
          "model_module_version": "1.5.0",
          "state": {
            "_view_name": "StyleView",
            "_model_name": "ProgressStyleModel",
            "description_width": "",
            "_view_module": "@jupyter-widgets/base",
            "_model_module_version": "1.5.0",
            "_view_count": null,
            "_view_module_version": "1.2.0",
            "bar_color": null,
            "_model_module": "@jupyter-widgets/controls"
          }
        },
        "89ba3db0c3c3435fb05647d766d0abe5": {
          "model_module": "@jupyter-widgets/base",
          "model_name": "LayoutModel",
          "model_module_version": "1.2.0",
          "state": {
            "_view_name": "LayoutView",
            "grid_template_rows": null,
            "right": null,
            "justify_content": null,
            "_view_module": "@jupyter-widgets/base",
            "overflow": null,
            "_model_module_version": "1.2.0",
            "_view_count": null,
            "flex_flow": null,
            "width": null,
            "min_width": null,
            "border": null,
            "align_items": null,
            "bottom": null,
            "_model_module": "@jupyter-widgets/base",
            "top": null,
            "grid_column": null,
            "overflow_y": null,
            "overflow_x": null,
            "grid_auto_flow": null,
            "grid_area": null,
            "grid_template_columns": null,
            "flex": null,
            "_model_name": "LayoutModel",
            "justify_items": null,
            "grid_row": null,
            "max_height": null,
            "align_content": null,
            "visibility": null,
            "align_self": null,
            "height": null,
            "min_height": null,
            "padding": null,
            "grid_auto_rows": null,
            "grid_gap": null,
            "max_width": null,
            "order": null,
            "_view_module_version": "1.2.0",
            "grid_template_areas": null,
            "object_position": null,
            "object_fit": null,
            "grid_auto_columns": null,
            "margin": null,
            "display": null,
            "left": null
          }
        },
        "8f877b9ec2f74669ae40ee48143fb0f4": {
          "model_module": "@jupyter-widgets/controls",
          "model_name": "DescriptionStyleModel",
          "model_module_version": "1.5.0",
          "state": {
            "_view_name": "StyleView",
            "_model_name": "DescriptionStyleModel",
            "description_width": "",
            "_view_module": "@jupyter-widgets/base",
            "_model_module_version": "1.5.0",
            "_view_count": null,
            "_view_module_version": "1.2.0",
            "_model_module": "@jupyter-widgets/controls"
          }
        },
        "d0f8ad8866364db79077e760a7bacdf4": {
          "model_module": "@jupyter-widgets/base",
          "model_name": "LayoutModel",
          "model_module_version": "1.2.0",
          "state": {
            "_view_name": "LayoutView",
            "grid_template_rows": null,
            "right": null,
            "justify_content": null,
            "_view_module": "@jupyter-widgets/base",
            "overflow": null,
            "_model_module_version": "1.2.0",
            "_view_count": null,
            "flex_flow": null,
            "width": null,
            "min_width": null,
            "border": null,
            "align_items": null,
            "bottom": null,
            "_model_module": "@jupyter-widgets/base",
            "top": null,
            "grid_column": null,
            "overflow_y": null,
            "overflow_x": null,
            "grid_auto_flow": null,
            "grid_area": null,
            "grid_template_columns": null,
            "flex": null,
            "_model_name": "LayoutModel",
            "justify_items": null,
            "grid_row": null,
            "max_height": null,
            "align_content": null,
            "visibility": null,
            "align_self": null,
            "height": null,
            "min_height": null,
            "padding": null,
            "grid_auto_rows": null,
            "grid_gap": null,
            "max_width": null,
            "order": null,
            "_view_module_version": "1.2.0",
            "grid_template_areas": null,
            "object_position": null,
            "object_fit": null,
            "grid_auto_columns": null,
            "margin": null,
            "display": null,
            "left": null
          }
        },
        "e523fabae2de47a89dc21b385b6b9d4e": {
          "model_module": "@jupyter-widgets/controls",
          "model_name": "HBoxModel",
          "model_module_version": "1.5.0",
          "state": {
            "_view_name": "HBoxView",
            "_dom_classes": [],
            "_model_name": "HBoxModel",
            "_view_module": "@jupyter-widgets/controls",
            "_model_module_version": "1.5.0",
            "_view_count": null,
            "_view_module_version": "1.5.0",
            "box_style": "",
            "layout": "IPY_MODEL_7cc4ab306caf4827ac3460d9410fcb93",
            "_model_module": "@jupyter-widgets/controls",
            "children": [
              "IPY_MODEL_5394a8405509432daecf1e5c1f80525d",
              "IPY_MODEL_e84d0d9b0c69446c8ef3804a081d944f",
              "IPY_MODEL_67e2e9be106c4a21b585ede398c49ed0"
            ]
          }
        },
        "7cc4ab306caf4827ac3460d9410fcb93": {
          "model_module": "@jupyter-widgets/base",
          "model_name": "LayoutModel",
          "model_module_version": "1.2.0",
          "state": {
            "_view_name": "LayoutView",
            "grid_template_rows": null,
            "right": null,
            "justify_content": null,
            "_view_module": "@jupyter-widgets/base",
            "overflow": null,
            "_model_module_version": "1.2.0",
            "_view_count": null,
            "flex_flow": null,
            "width": null,
            "min_width": null,
            "border": null,
            "align_items": null,
            "bottom": null,
            "_model_module": "@jupyter-widgets/base",
            "top": null,
            "grid_column": null,
            "overflow_y": null,
            "overflow_x": null,
            "grid_auto_flow": null,
            "grid_area": null,
            "grid_template_columns": null,
            "flex": null,
            "_model_name": "LayoutModel",
            "justify_items": null,
            "grid_row": null,
            "max_height": null,
            "align_content": null,
            "visibility": null,
            "align_self": null,
            "height": null,
            "min_height": null,
            "padding": null,
            "grid_auto_rows": null,
            "grid_gap": null,
            "max_width": null,
            "order": null,
            "_view_module_version": "1.2.0",
            "grid_template_areas": null,
            "object_position": null,
            "object_fit": null,
            "grid_auto_columns": null,
            "margin": null,
            "display": null,
            "left": null
          }
        },
        "5394a8405509432daecf1e5c1f80525d": {
          "model_module": "@jupyter-widgets/controls",
          "model_name": "HTMLModel",
          "model_module_version": "1.5.0",
          "state": {
            "_view_name": "HTMLView",
            "style": "IPY_MODEL_8b4342ce100e482fabcc778a41a6ae08",
            "_dom_classes": [],
            "description": "",
            "_model_name": "HTMLModel",
            "placeholder": "​",
            "_view_module": "@jupyter-widgets/controls",
            "_model_module_version": "1.5.0",
            "value": "Downloading: 100%",
            "_view_count": null,
            "_view_module_version": "1.5.0",
            "description_tooltip": null,
            "_model_module": "@jupyter-widgets/controls",
            "layout": "IPY_MODEL_036fcac9a2bf47f8a3bb143176dfe526"
          }
        },
        "e84d0d9b0c69446c8ef3804a081d944f": {
          "model_module": "@jupyter-widgets/controls",
          "model_name": "FloatProgressModel",
          "model_module_version": "1.5.0",
          "state": {
            "_view_name": "ProgressView",
            "style": "IPY_MODEL_5ac1a43f21514b23af15811a53f34e7b",
            "_dom_classes": [],
            "description": "",
            "_model_name": "FloatProgressModel",
            "bar_style": "success",
            "max": 1355863,
            "_view_module": "@jupyter-widgets/controls",
            "_model_module_version": "1.5.0",
            "value": 1355863,
            "_view_count": null,
            "_view_module_version": "1.5.0",
            "orientation": "horizontal",
            "min": 0,
            "description_tooltip": null,
            "_model_module": "@jupyter-widgets/controls",
            "layout": "IPY_MODEL_be0706316fe94c3982eeed3b6ba98886"
          }
        },
        "67e2e9be106c4a21b585ede398c49ed0": {
          "model_module": "@jupyter-widgets/controls",
          "model_name": "HTMLModel",
          "model_module_version": "1.5.0",
          "state": {
            "_view_name": "HTMLView",
            "style": "IPY_MODEL_1b452d746fa541d4878f67bd1be90327",
            "_dom_classes": [],
            "description": "",
            "_model_name": "HTMLModel",
            "placeholder": "​",
            "_view_module": "@jupyter-widgets/controls",
            "_model_module_version": "1.5.0",
            "value": " 1.29M/1.29M [00:01&lt;00:00, 1.24MB/s]",
            "_view_count": null,
            "_view_module_version": "1.5.0",
            "description_tooltip": null,
            "_model_module": "@jupyter-widgets/controls",
            "layout": "IPY_MODEL_c964c54106bc4fcd8a50c599dec09751"
          }
        },
        "8b4342ce100e482fabcc778a41a6ae08": {
          "model_module": "@jupyter-widgets/controls",
          "model_name": "DescriptionStyleModel",
          "model_module_version": "1.5.0",
          "state": {
            "_view_name": "StyleView",
            "_model_name": "DescriptionStyleModel",
            "description_width": "",
            "_view_module": "@jupyter-widgets/base",
            "_model_module_version": "1.5.0",
            "_view_count": null,
            "_view_module_version": "1.2.0",
            "_model_module": "@jupyter-widgets/controls"
          }
        },
        "036fcac9a2bf47f8a3bb143176dfe526": {
          "model_module": "@jupyter-widgets/base",
          "model_name": "LayoutModel",
          "model_module_version": "1.2.0",
          "state": {
            "_view_name": "LayoutView",
            "grid_template_rows": null,
            "right": null,
            "justify_content": null,
            "_view_module": "@jupyter-widgets/base",
            "overflow": null,
            "_model_module_version": "1.2.0",
            "_view_count": null,
            "flex_flow": null,
            "width": null,
            "min_width": null,
            "border": null,
            "align_items": null,
            "bottom": null,
            "_model_module": "@jupyter-widgets/base",
            "top": null,
            "grid_column": null,
            "overflow_y": null,
            "overflow_x": null,
            "grid_auto_flow": null,
            "grid_area": null,
            "grid_template_columns": null,
            "flex": null,
            "_model_name": "LayoutModel",
            "justify_items": null,
            "grid_row": null,
            "max_height": null,
            "align_content": null,
            "visibility": null,
            "align_self": null,
            "height": null,
            "min_height": null,
            "padding": null,
            "grid_auto_rows": null,
            "grid_gap": null,
            "max_width": null,
            "order": null,
            "_view_module_version": "1.2.0",
            "grid_template_areas": null,
            "object_position": null,
            "object_fit": null,
            "grid_auto_columns": null,
            "margin": null,
            "display": null,
            "left": null
          }
        },
        "5ac1a43f21514b23af15811a53f34e7b": {
          "model_module": "@jupyter-widgets/controls",
          "model_name": "ProgressStyleModel",
          "model_module_version": "1.5.0",
          "state": {
            "_view_name": "StyleView",
            "_model_name": "ProgressStyleModel",
            "description_width": "",
            "_view_module": "@jupyter-widgets/base",
            "_model_module_version": "1.5.0",
            "_view_count": null,
            "_view_module_version": "1.2.0",
            "bar_color": null,
            "_model_module": "@jupyter-widgets/controls"
          }
        },
        "be0706316fe94c3982eeed3b6ba98886": {
          "model_module": "@jupyter-widgets/base",
          "model_name": "LayoutModel",
          "model_module_version": "1.2.0",
          "state": {
            "_view_name": "LayoutView",
            "grid_template_rows": null,
            "right": null,
            "justify_content": null,
            "_view_module": "@jupyter-widgets/base",
            "overflow": null,
            "_model_module_version": "1.2.0",
            "_view_count": null,
            "flex_flow": null,
            "width": null,
            "min_width": null,
            "border": null,
            "align_items": null,
            "bottom": null,
            "_model_module": "@jupyter-widgets/base",
            "top": null,
            "grid_column": null,
            "overflow_y": null,
            "overflow_x": null,
            "grid_auto_flow": null,
            "grid_area": null,
            "grid_template_columns": null,
            "flex": null,
            "_model_name": "LayoutModel",
            "justify_items": null,
            "grid_row": null,
            "max_height": null,
            "align_content": null,
            "visibility": null,
            "align_self": null,
            "height": null,
            "min_height": null,
            "padding": null,
            "grid_auto_rows": null,
            "grid_gap": null,
            "max_width": null,
            "order": null,
            "_view_module_version": "1.2.0",
            "grid_template_areas": null,
            "object_position": null,
            "object_fit": null,
            "grid_auto_columns": null,
            "margin": null,
            "display": null,
            "left": null
          }
        },
        "1b452d746fa541d4878f67bd1be90327": {
          "model_module": "@jupyter-widgets/controls",
          "model_name": "DescriptionStyleModel",
          "model_module_version": "1.5.0",
          "state": {
            "_view_name": "StyleView",
            "_model_name": "DescriptionStyleModel",
            "description_width": "",
            "_view_module": "@jupyter-widgets/base",
            "_model_module_version": "1.5.0",
            "_view_count": null,
            "_view_module_version": "1.2.0",
            "_model_module": "@jupyter-widgets/controls"
          }
        },
        "c964c54106bc4fcd8a50c599dec09751": {
          "model_module": "@jupyter-widgets/base",
          "model_name": "LayoutModel",
          "model_module_version": "1.2.0",
          "state": {
            "_view_name": "LayoutView",
            "grid_template_rows": null,
            "right": null,
            "justify_content": null,
            "_view_module": "@jupyter-widgets/base",
            "overflow": null,
            "_model_module_version": "1.2.0",
            "_view_count": null,
            "flex_flow": null,
            "width": null,
            "min_width": null,
            "border": null,
            "align_items": null,
            "bottom": null,
            "_model_module": "@jupyter-widgets/base",
            "top": null,
            "grid_column": null,
            "overflow_y": null,
            "overflow_x": null,
            "grid_auto_flow": null,
            "grid_area": null,
            "grid_template_columns": null,
            "flex": null,
            "_model_name": "LayoutModel",
            "justify_items": null,
            "grid_row": null,
            "max_height": null,
            "align_content": null,
            "visibility": null,
            "align_self": null,
            "height": null,
            "min_height": null,
            "padding": null,
            "grid_auto_rows": null,
            "grid_gap": null,
            "max_width": null,
            "order": null,
            "_view_module_version": "1.2.0",
            "grid_template_areas": null,
            "object_position": null,
            "object_fit": null,
            "grid_auto_columns": null,
            "margin": null,
            "display": null,
            "left": null
          }
        },
        "4c0b763330fb4fd78298bff35536b58f": {
          "model_module": "@jupyter-widgets/controls",
          "model_name": "HBoxModel",
          "model_module_version": "1.5.0",
          "state": {
            "_view_name": "HBoxView",
            "_dom_classes": [],
            "_model_name": "HBoxModel",
            "_view_module": "@jupyter-widgets/controls",
            "_model_module_version": "1.5.0",
            "_view_count": null,
            "_view_module_version": "1.5.0",
            "box_style": "",
            "layout": "IPY_MODEL_7acfd25674244242ab72536b168c627a",
            "_model_module": "@jupyter-widgets/controls",
            "children": [
              "IPY_MODEL_90fa974faf7446399bce100f792de7dc",
              "IPY_MODEL_1e21cf57330b4d6b9346e849919a66ff",
              "IPY_MODEL_e3b60b33fada48f9975302516b8aa6d5"
            ]
          }
        },
        "7acfd25674244242ab72536b168c627a": {
          "model_module": "@jupyter-widgets/base",
          "model_name": "LayoutModel",
          "model_module_version": "1.2.0",
          "state": {
            "_view_name": "LayoutView",
            "grid_template_rows": null,
            "right": null,
            "justify_content": null,
            "_view_module": "@jupyter-widgets/base",
            "overflow": null,
            "_model_module_version": "1.2.0",
            "_view_count": null,
            "flex_flow": null,
            "width": null,
            "min_width": null,
            "border": null,
            "align_items": null,
            "bottom": null,
            "_model_module": "@jupyter-widgets/base",
            "top": null,
            "grid_column": null,
            "overflow_y": null,
            "overflow_x": null,
            "grid_auto_flow": null,
            "grid_area": null,
            "grid_template_columns": null,
            "flex": null,
            "_model_name": "LayoutModel",
            "justify_items": null,
            "grid_row": null,
            "max_height": null,
            "align_content": null,
            "visibility": null,
            "align_self": null,
            "height": null,
            "min_height": null,
            "padding": null,
            "grid_auto_rows": null,
            "grid_gap": null,
            "max_width": null,
            "order": null,
            "_view_module_version": "1.2.0",
            "grid_template_areas": null,
            "object_position": null,
            "object_fit": null,
            "grid_auto_columns": null,
            "margin": null,
            "display": null,
            "left": null
          }
        },
        "90fa974faf7446399bce100f792de7dc": {
          "model_module": "@jupyter-widgets/controls",
          "model_name": "HTMLModel",
          "model_module_version": "1.5.0",
          "state": {
            "_view_name": "HTMLView",
            "style": "IPY_MODEL_680e282328a7493cb753ae024056653d",
            "_dom_classes": [],
            "description": "",
            "_model_name": "HTMLModel",
            "placeholder": "​",
            "_view_module": "@jupyter-widgets/controls",
            "_model_module_version": "1.5.0",
            "value": "Downloading: 100%",
            "_view_count": null,
            "_view_module_version": "1.5.0",
            "description_tooltip": null,
            "_model_module": "@jupyter-widgets/controls",
            "layout": "IPY_MODEL_8547131f94a04145921be839804d79f2"
          }
        },
        "1e21cf57330b4d6b9346e849919a66ff": {
          "model_module": "@jupyter-widgets/controls",
          "model_name": "FloatProgressModel",
          "model_module_version": "1.5.0",
          "state": {
            "_view_name": "ProgressView",
            "style": "IPY_MODEL_c7de8d35f0ff4d6eaf097f031dbe2d89",
            "_dom_classes": [],
            "description": "",
            "_model_name": "FloatProgressModel",
            "bar_style": "success",
            "max": 481,
            "_view_module": "@jupyter-widgets/controls",
            "_model_module_version": "1.5.0",
            "value": 481,
            "_view_count": null,
            "_view_module_version": "1.5.0",
            "orientation": "horizontal",
            "min": 0,
            "description_tooltip": null,
            "_model_module": "@jupyter-widgets/controls",
            "layout": "IPY_MODEL_f195d080a4a54ed4abcb059f6278a4f8"
          }
        },
        "e3b60b33fada48f9975302516b8aa6d5": {
          "model_module": "@jupyter-widgets/controls",
          "model_name": "HTMLModel",
          "model_module_version": "1.5.0",
          "state": {
            "_view_name": "HTMLView",
            "style": "IPY_MODEL_60fbf1067c4441dcbaa37f747775b57c",
            "_dom_classes": [],
            "description": "",
            "_model_name": "HTMLModel",
            "placeholder": "​",
            "_view_module": "@jupyter-widgets/controls",
            "_model_module_version": "1.5.0",
            "value": " 481/481 [00:00&lt;00:00, 2.99kB/s]",
            "_view_count": null,
            "_view_module_version": "1.5.0",
            "description_tooltip": null,
            "_model_module": "@jupyter-widgets/controls",
            "layout": "IPY_MODEL_fe601ab4b0dd4e129820e9d8fc4d5fd5"
          }
        },
        "680e282328a7493cb753ae024056653d": {
          "model_module": "@jupyter-widgets/controls",
          "model_name": "DescriptionStyleModel",
          "model_module_version": "1.5.0",
          "state": {
            "_view_name": "StyleView",
            "_model_name": "DescriptionStyleModel",
            "description_width": "",
            "_view_module": "@jupyter-widgets/base",
            "_model_module_version": "1.5.0",
            "_view_count": null,
            "_view_module_version": "1.2.0",
            "_model_module": "@jupyter-widgets/controls"
          }
        },
        "8547131f94a04145921be839804d79f2": {
          "model_module": "@jupyter-widgets/base",
          "model_name": "LayoutModel",
          "model_module_version": "1.2.0",
          "state": {
            "_view_name": "LayoutView",
            "grid_template_rows": null,
            "right": null,
            "justify_content": null,
            "_view_module": "@jupyter-widgets/base",
            "overflow": null,
            "_model_module_version": "1.2.0",
            "_view_count": null,
            "flex_flow": null,
            "width": null,
            "min_width": null,
            "border": null,
            "align_items": null,
            "bottom": null,
            "_model_module": "@jupyter-widgets/base",
            "top": null,
            "grid_column": null,
            "overflow_y": null,
            "overflow_x": null,
            "grid_auto_flow": null,
            "grid_area": null,
            "grid_template_columns": null,
            "flex": null,
            "_model_name": "LayoutModel",
            "justify_items": null,
            "grid_row": null,
            "max_height": null,
            "align_content": null,
            "visibility": null,
            "align_self": null,
            "height": null,
            "min_height": null,
            "padding": null,
            "grid_auto_rows": null,
            "grid_gap": null,
            "max_width": null,
            "order": null,
            "_view_module_version": "1.2.0",
            "grid_template_areas": null,
            "object_position": null,
            "object_fit": null,
            "grid_auto_columns": null,
            "margin": null,
            "display": null,
            "left": null
          }
        },
        "c7de8d35f0ff4d6eaf097f031dbe2d89": {
          "model_module": "@jupyter-widgets/controls",
          "model_name": "ProgressStyleModel",
          "model_module_version": "1.5.0",
          "state": {
            "_view_name": "StyleView",
            "_model_name": "ProgressStyleModel",
            "description_width": "",
            "_view_module": "@jupyter-widgets/base",
            "_model_module_version": "1.5.0",
            "_view_count": null,
            "_view_module_version": "1.2.0",
            "bar_color": null,
            "_model_module": "@jupyter-widgets/controls"
          }
        },
        "f195d080a4a54ed4abcb059f6278a4f8": {
          "model_module": "@jupyter-widgets/base",
          "model_name": "LayoutModel",
          "model_module_version": "1.2.0",
          "state": {
            "_view_name": "LayoutView",
            "grid_template_rows": null,
            "right": null,
            "justify_content": null,
            "_view_module": "@jupyter-widgets/base",
            "overflow": null,
            "_model_module_version": "1.2.0",
            "_view_count": null,
            "flex_flow": null,
            "width": null,
            "min_width": null,
            "border": null,
            "align_items": null,
            "bottom": null,
            "_model_module": "@jupyter-widgets/base",
            "top": null,
            "grid_column": null,
            "overflow_y": null,
            "overflow_x": null,
            "grid_auto_flow": null,
            "grid_area": null,
            "grid_template_columns": null,
            "flex": null,
            "_model_name": "LayoutModel",
            "justify_items": null,
            "grid_row": null,
            "max_height": null,
            "align_content": null,
            "visibility": null,
            "align_self": null,
            "height": null,
            "min_height": null,
            "padding": null,
            "grid_auto_rows": null,
            "grid_gap": null,
            "max_width": null,
            "order": null,
            "_view_module_version": "1.2.0",
            "grid_template_areas": null,
            "object_position": null,
            "object_fit": null,
            "grid_auto_columns": null,
            "margin": null,
            "display": null,
            "left": null
          }
        },
        "60fbf1067c4441dcbaa37f747775b57c": {
          "model_module": "@jupyter-widgets/controls",
          "model_name": "DescriptionStyleModel",
          "model_module_version": "1.5.0",
          "state": {
            "_view_name": "StyleView",
            "_model_name": "DescriptionStyleModel",
            "description_width": "",
            "_view_module": "@jupyter-widgets/base",
            "_model_module_version": "1.5.0",
            "_view_count": null,
            "_view_module_version": "1.2.0",
            "_model_module": "@jupyter-widgets/controls"
          }
        },
        "fe601ab4b0dd4e129820e9d8fc4d5fd5": {
          "model_module": "@jupyter-widgets/base",
          "model_name": "LayoutModel",
          "model_module_version": "1.2.0",
          "state": {
            "_view_name": "LayoutView",
            "grid_template_rows": null,
            "right": null,
            "justify_content": null,
            "_view_module": "@jupyter-widgets/base",
            "overflow": null,
            "_model_module_version": "1.2.0",
            "_view_count": null,
            "flex_flow": null,
            "width": null,
            "min_width": null,
            "border": null,
            "align_items": null,
            "bottom": null,
            "_model_module": "@jupyter-widgets/base",
            "top": null,
            "grid_column": null,
            "overflow_y": null,
            "overflow_x": null,
            "grid_auto_flow": null,
            "grid_area": null,
            "grid_template_columns": null,
            "flex": null,
            "_model_name": "LayoutModel",
            "justify_items": null,
            "grid_row": null,
            "max_height": null,
            "align_content": null,
            "visibility": null,
            "align_self": null,
            "height": null,
            "min_height": null,
            "padding": null,
            "grid_auto_rows": null,
            "grid_gap": null,
            "max_width": null,
            "order": null,
            "_view_module_version": "1.2.0",
            "grid_template_areas": null,
            "object_position": null,
            "object_fit": null,
            "grid_auto_columns": null,
            "margin": null,
            "display": null,
            "left": null
          }
        },
        "22a42eb902dd42c8ab72f6e7f38a2421": {
          "model_module": "@jupyter-widgets/controls",
          "model_name": "HBoxModel",
          "model_module_version": "1.5.0",
          "state": {
            "_view_name": "HBoxView",
            "_dom_classes": [],
            "_model_name": "HBoxModel",
            "_view_module": "@jupyter-widgets/controls",
            "_model_module_version": "1.5.0",
            "_view_count": null,
            "_view_module_version": "1.5.0",
            "box_style": "",
            "layout": "IPY_MODEL_c3193b0e5f7f4930b3a93b5b43569e41",
            "_model_module": "@jupyter-widgets/controls",
            "children": [
              "IPY_MODEL_b3a7aae2fa5b4d69a76d87b5daa40a79",
              "IPY_MODEL_1ce5952f46aa45f1ba8a990749ee3cf5",
              "IPY_MODEL_4a87996d33c34e55a815223d3536eab5"
            ]
          }
        },
        "c3193b0e5f7f4930b3a93b5b43569e41": {
          "model_module": "@jupyter-widgets/base",
          "model_name": "LayoutModel",
          "model_module_version": "1.2.0",
          "state": {
            "_view_name": "LayoutView",
            "grid_template_rows": null,
            "right": null,
            "justify_content": null,
            "_view_module": "@jupyter-widgets/base",
            "overflow": null,
            "_model_module_version": "1.2.0",
            "_view_count": null,
            "flex_flow": null,
            "width": null,
            "min_width": null,
            "border": null,
            "align_items": null,
            "bottom": null,
            "_model_module": "@jupyter-widgets/base",
            "top": null,
            "grid_column": null,
            "overflow_y": null,
            "overflow_x": null,
            "grid_auto_flow": null,
            "grid_area": null,
            "grid_template_columns": null,
            "flex": null,
            "_model_name": "LayoutModel",
            "justify_items": null,
            "grid_row": null,
            "max_height": null,
            "align_content": null,
            "visibility": null,
            "align_self": null,
            "height": null,
            "min_height": null,
            "padding": null,
            "grid_auto_rows": null,
            "grid_gap": null,
            "max_width": null,
            "order": null,
            "_view_module_version": "1.2.0",
            "grid_template_areas": null,
            "object_position": null,
            "object_fit": null,
            "grid_auto_columns": null,
            "margin": null,
            "display": null,
            "left": null
          }
        },
        "b3a7aae2fa5b4d69a76d87b5daa40a79": {
          "model_module": "@jupyter-widgets/controls",
          "model_name": "HTMLModel",
          "model_module_version": "1.5.0",
          "state": {
            "_view_name": "HTMLView",
            "style": "IPY_MODEL_1eedb641608d4e7c82e76a67e35eca98",
            "_dom_classes": [],
            "description": "",
            "_model_name": "HTMLModel",
            "placeholder": "​",
            "_view_module": "@jupyter-widgets/controls",
            "_model_module_version": "1.5.0",
            "value": "Downloading: 100%",
            "_view_count": null,
            "_view_module_version": "1.5.0",
            "description_tooltip": null,
            "_model_module": "@jupyter-widgets/controls",
            "layout": "IPY_MODEL_cce4be0fac00494da075331339a50c25"
          }
        },
        "1ce5952f46aa45f1ba8a990749ee3cf5": {
          "model_module": "@jupyter-widgets/controls",
          "model_name": "FloatProgressModel",
          "model_module_version": "1.5.0",
          "state": {
            "_view_name": "ProgressView",
            "style": "IPY_MODEL_65dbd7098b014a4c8d8db33f4ed796f9",
            "_dom_classes": [],
            "description": "",
            "_model_name": "FloatProgressModel",
            "bar_style": "success",
            "max": 657434796,
            "_view_module": "@jupyter-widgets/controls",
            "_model_module_version": "1.5.0",
            "value": 657434796,
            "_view_count": null,
            "_view_module_version": "1.5.0",
            "orientation": "horizontal",
            "min": 0,
            "description_tooltip": null,
            "_model_module": "@jupyter-widgets/controls",
            "layout": "IPY_MODEL_3ec253e4e34741e98cd2ff055fb1f290"
          }
        },
        "4a87996d33c34e55a815223d3536eab5": {
          "model_module": "@jupyter-widgets/controls",
          "model_name": "HTMLModel",
          "model_module_version": "1.5.0",
          "state": {
            "_view_name": "HTMLView",
            "style": "IPY_MODEL_477ab8ba809c4999988444c4dbe09a7a",
            "_dom_classes": [],
            "description": "",
            "_model_name": "HTMLModel",
            "placeholder": "​",
            "_view_module": "@jupyter-widgets/controls",
            "_model_module_version": "1.5.0",
            "value": " 627M/627M [00:20&lt;00:00, 33.9MB/s]",
            "_view_count": null,
            "_view_module_version": "1.5.0",
            "description_tooltip": null,
            "_model_module": "@jupyter-widgets/controls",
            "layout": "IPY_MODEL_51885676d7a64e71b05dfae4269b41a4"
          }
        },
        "1eedb641608d4e7c82e76a67e35eca98": {
          "model_module": "@jupyter-widgets/controls",
          "model_name": "DescriptionStyleModel",
          "model_module_version": "1.5.0",
          "state": {
            "_view_name": "StyleView",
            "_model_name": "DescriptionStyleModel",
            "description_width": "",
            "_view_module": "@jupyter-widgets/base",
            "_model_module_version": "1.5.0",
            "_view_count": null,
            "_view_module_version": "1.2.0",
            "_model_module": "@jupyter-widgets/controls"
          }
        },
        "cce4be0fac00494da075331339a50c25": {
          "model_module": "@jupyter-widgets/base",
          "model_name": "LayoutModel",
          "model_module_version": "1.2.0",
          "state": {
            "_view_name": "LayoutView",
            "grid_template_rows": null,
            "right": null,
            "justify_content": null,
            "_view_module": "@jupyter-widgets/base",
            "overflow": null,
            "_model_module_version": "1.2.0",
            "_view_count": null,
            "flex_flow": null,
            "width": null,
            "min_width": null,
            "border": null,
            "align_items": null,
            "bottom": null,
            "_model_module": "@jupyter-widgets/base",
            "top": null,
            "grid_column": null,
            "overflow_y": null,
            "overflow_x": null,
            "grid_auto_flow": null,
            "grid_area": null,
            "grid_template_columns": null,
            "flex": null,
            "_model_name": "LayoutModel",
            "justify_items": null,
            "grid_row": null,
            "max_height": null,
            "align_content": null,
            "visibility": null,
            "align_self": null,
            "height": null,
            "min_height": null,
            "padding": null,
            "grid_auto_rows": null,
            "grid_gap": null,
            "max_width": null,
            "order": null,
            "_view_module_version": "1.2.0",
            "grid_template_areas": null,
            "object_position": null,
            "object_fit": null,
            "grid_auto_columns": null,
            "margin": null,
            "display": null,
            "left": null
          }
        },
        "65dbd7098b014a4c8d8db33f4ed796f9": {
          "model_module": "@jupyter-widgets/controls",
          "model_name": "ProgressStyleModel",
          "model_module_version": "1.5.0",
          "state": {
            "_view_name": "StyleView",
            "_model_name": "ProgressStyleModel",
            "description_width": "",
            "_view_module": "@jupyter-widgets/base",
            "_model_module_version": "1.5.0",
            "_view_count": null,
            "_view_module_version": "1.2.0",
            "bar_color": null,
            "_model_module": "@jupyter-widgets/controls"
          }
        },
        "3ec253e4e34741e98cd2ff055fb1f290": {
          "model_module": "@jupyter-widgets/base",
          "model_name": "LayoutModel",
          "model_module_version": "1.2.0",
          "state": {
            "_view_name": "LayoutView",
            "grid_template_rows": null,
            "right": null,
            "justify_content": null,
            "_view_module": "@jupyter-widgets/base",
            "overflow": null,
            "_model_module_version": "1.2.0",
            "_view_count": null,
            "flex_flow": null,
            "width": null,
            "min_width": null,
            "border": null,
            "align_items": null,
            "bottom": null,
            "_model_module": "@jupyter-widgets/base",
            "top": null,
            "grid_column": null,
            "overflow_y": null,
            "overflow_x": null,
            "grid_auto_flow": null,
            "grid_area": null,
            "grid_template_columns": null,
            "flex": null,
            "_model_name": "LayoutModel",
            "justify_items": null,
            "grid_row": null,
            "max_height": null,
            "align_content": null,
            "visibility": null,
            "align_self": null,
            "height": null,
            "min_height": null,
            "padding": null,
            "grid_auto_rows": null,
            "grid_gap": null,
            "max_width": null,
            "order": null,
            "_view_module_version": "1.2.0",
            "grid_template_areas": null,
            "object_position": null,
            "object_fit": null,
            "grid_auto_columns": null,
            "margin": null,
            "display": null,
            "left": null
          }
        },
        "477ab8ba809c4999988444c4dbe09a7a": {
          "model_module": "@jupyter-widgets/controls",
          "model_name": "DescriptionStyleModel",
          "model_module_version": "1.5.0",
          "state": {
            "_view_name": "StyleView",
            "_model_name": "DescriptionStyleModel",
            "description_width": "",
            "_view_module": "@jupyter-widgets/base",
            "_model_module_version": "1.5.0",
            "_view_count": null,
            "_view_module_version": "1.2.0",
            "_model_module": "@jupyter-widgets/controls"
          }
        },
        "51885676d7a64e71b05dfae4269b41a4": {
          "model_module": "@jupyter-widgets/base",
          "model_name": "LayoutModel",
          "model_module_version": "1.2.0",
          "state": {
            "_view_name": "LayoutView",
            "grid_template_rows": null,
            "right": null,
            "justify_content": null,
            "_view_module": "@jupyter-widgets/base",
            "overflow": null,
            "_model_module_version": "1.2.0",
            "_view_count": null,
            "flex_flow": null,
            "width": null,
            "min_width": null,
            "border": null,
            "align_items": null,
            "bottom": null,
            "_model_module": "@jupyter-widgets/base",
            "top": null,
            "grid_column": null,
            "overflow_y": null,
            "overflow_x": null,
            "grid_auto_flow": null,
            "grid_area": null,
            "grid_template_columns": null,
            "flex": null,
            "_model_name": "LayoutModel",
            "justify_items": null,
            "grid_row": null,
            "max_height": null,
            "align_content": null,
            "visibility": null,
            "align_self": null,
            "height": null,
            "min_height": null,
            "padding": null,
            "grid_auto_rows": null,
            "grid_gap": null,
            "max_width": null,
            "order": null,
            "_view_module_version": "1.2.0",
            "grid_template_areas": null,
            "object_position": null,
            "object_fit": null,
            "grid_auto_columns": null,
            "margin": null,
            "display": null,
            "left": null
          }
        }
      }
    }
  },
  "nbformat": 4,
  "nbformat_minor": 0
}